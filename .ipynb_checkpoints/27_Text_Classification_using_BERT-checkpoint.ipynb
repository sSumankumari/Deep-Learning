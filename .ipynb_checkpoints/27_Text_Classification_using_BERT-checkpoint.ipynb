{
 "cells": [
  {
   "cell_type": "markdown",
   "id": "d7793944",
   "metadata": {},
   "source": [
    "# Text Classification using BERT"
   ]
  },
  {
   "cell_type": "code",
   "execution_count": 1,
   "id": "d0ea5056",
   "metadata": {},
   "outputs": [],
   "source": [
    "import tensorflow as tf\n",
    "import tensorflow_hub as hub\n",
    "import tensorflow_text as text"
   ]
  },
  {
   "cell_type": "code",
   "execution_count": 2,
   "id": "1de387f6",
   "metadata": {},
   "outputs": [],
   "source": [
    "import pandas as pd"
   ]
  },
  {
   "cell_type": "code",
   "execution_count": 3,
   "id": "be309797",
   "metadata": {},
   "outputs": [
    {
     "data": {
      "text/html": [
       "<div>\n",
       "<style scoped>\n",
       "    .dataframe tbody tr th:only-of-type {\n",
       "        vertical-align: middle;\n",
       "    }\n",
       "\n",
       "    .dataframe tbody tr th {\n",
       "        vertical-align: top;\n",
       "    }\n",
       "\n",
       "    .dataframe thead th {\n",
       "        text-align: right;\n",
       "    }\n",
       "</style>\n",
       "<table border=\"1\" class=\"dataframe\">\n",
       "  <thead>\n",
       "    <tr style=\"text-align: right;\">\n",
       "      <th></th>\n",
       "      <th>Category</th>\n",
       "      <th>Message</th>\n",
       "    </tr>\n",
       "  </thead>\n",
       "  <tbody>\n",
       "    <tr>\n",
       "      <th>0</th>\n",
       "      <td>ham</td>\n",
       "      <td>Go until jurong point, crazy.. Available only ...</td>\n",
       "    </tr>\n",
       "    <tr>\n",
       "      <th>1</th>\n",
       "      <td>ham</td>\n",
       "      <td>Ok lar... Joking wif u oni...</td>\n",
       "    </tr>\n",
       "    <tr>\n",
       "      <th>2</th>\n",
       "      <td>spam</td>\n",
       "      <td>Free entry in 2 a wkly comp to win FA Cup fina...</td>\n",
       "    </tr>\n",
       "    <tr>\n",
       "      <th>3</th>\n",
       "      <td>ham</td>\n",
       "      <td>U dun say so early hor... U c already then say...</td>\n",
       "    </tr>\n",
       "    <tr>\n",
       "      <th>4</th>\n",
       "      <td>ham</td>\n",
       "      <td>Nah I don't think he goes to usf, he lives aro...</td>\n",
       "    </tr>\n",
       "  </tbody>\n",
       "</table>\n",
       "</div>"
      ],
      "text/plain": [
       "  Category                                            Message\n",
       "0      ham  Go until jurong point, crazy.. Available only ...\n",
       "1      ham                      Ok lar... Joking wif u oni...\n",
       "2     spam  Free entry in 2 a wkly comp to win FA Cup fina...\n",
       "3      ham  U dun say so early hor... U c already then say...\n",
       "4      ham  Nah I don't think he goes to usf, he lives aro..."
      ]
     },
     "execution_count": 3,
     "metadata": {},
     "output_type": "execute_result"
    }
   ],
   "source": [
    "df = pd.read_csv(\"spam.csv\")\n",
    "df.head()"
   ]
  },
  {
   "cell_type": "code",
   "execution_count": 4,
   "id": "4511eaaf",
   "metadata": {},
   "outputs": [
    {
     "data": {
      "text/html": [
       "<div>\n",
       "<style scoped>\n",
       "    .dataframe tbody tr th:only-of-type {\n",
       "        vertical-align: middle;\n",
       "    }\n",
       "\n",
       "    .dataframe tbody tr th {\n",
       "        vertical-align: top;\n",
       "    }\n",
       "\n",
       "    .dataframe thead tr th {\n",
       "        text-align: left;\n",
       "    }\n",
       "\n",
       "    .dataframe thead tr:last-of-type th {\n",
       "        text-align: right;\n",
       "    }\n",
       "</style>\n",
       "<table border=\"1\" class=\"dataframe\">\n",
       "  <thead>\n",
       "    <tr>\n",
       "      <th></th>\n",
       "      <th colspan=\"4\" halign=\"left\">Message</th>\n",
       "    </tr>\n",
       "    <tr>\n",
       "      <th></th>\n",
       "      <th>count</th>\n",
       "      <th>unique</th>\n",
       "      <th>top</th>\n",
       "      <th>freq</th>\n",
       "    </tr>\n",
       "    <tr>\n",
       "      <th>Category</th>\n",
       "      <th></th>\n",
       "      <th></th>\n",
       "      <th></th>\n",
       "      <th></th>\n",
       "    </tr>\n",
       "  </thead>\n",
       "  <tbody>\n",
       "    <tr>\n",
       "      <th>ham</th>\n",
       "      <td>4825</td>\n",
       "      <td>4516</td>\n",
       "      <td>Sorry, I'll call later</td>\n",
       "      <td>30</td>\n",
       "    </tr>\n",
       "    <tr>\n",
       "      <th>spam</th>\n",
       "      <td>747</td>\n",
       "      <td>641</td>\n",
       "      <td>Please call our customer service representativ...</td>\n",
       "      <td>4</td>\n",
       "    </tr>\n",
       "  </tbody>\n",
       "</table>\n",
       "</div>"
      ],
      "text/plain": [
       "         Message                                                            \\\n",
       "           count unique                                                top   \n",
       "Category                                                                     \n",
       "ham         4825   4516                             Sorry, I'll call later   \n",
       "spam         747    641  Please call our customer service representativ...   \n",
       "\n",
       "               \n",
       "         freq  \n",
       "Category       \n",
       "ham        30  \n",
       "spam        4  "
      ]
     },
     "execution_count": 4,
     "metadata": {},
     "output_type": "execute_result"
    }
   ],
   "source": [
    "df.groupby('Category').describe()"
   ]
  },
  {
   "cell_type": "code",
   "execution_count": 5,
   "id": "80ad183e",
   "metadata": {},
   "outputs": [
    {
     "data": {
      "text/plain": [
       "Category\n",
       "ham     4825\n",
       "spam     747\n",
       "Name: count, dtype: int64"
      ]
     },
     "execution_count": 5,
     "metadata": {},
     "output_type": "execute_result"
    }
   ],
   "source": [
    "df['Category'].value_counts()"
   ]
  },
  {
   "cell_type": "code",
   "execution_count": 6,
   "id": "627c471c",
   "metadata": {},
   "outputs": [
    {
     "data": {
      "text/plain": [
       "0.15481865284974095"
      ]
     },
     "execution_count": 6,
     "metadata": {},
     "output_type": "execute_result"
    }
   ],
   "source": [
    "747/4825"
   ]
  },
  {
   "cell_type": "markdown",
   "id": "4419b43c",
   "metadata": {},
   "source": [
    "The dataset contains 15% spam emails and 85% ham emails, this indicates class imbalance"
   ]
  },
  {
   "cell_type": "code",
   "execution_count": 7,
   "id": "01a96527",
   "metadata": {},
   "outputs": [
    {
     "data": {
      "text/plain": [
       "(747, 2)"
      ]
     },
     "execution_count": 7,
     "metadata": {},
     "output_type": "execute_result"
    }
   ],
   "source": [
    "df_spam = df[df['Category'] == 'spam']\n",
    "df_spam.shape"
   ]
  },
  {
   "cell_type": "code",
   "execution_count": 8,
   "id": "bc3662c9",
   "metadata": {},
   "outputs": [
    {
     "data": {
      "text/plain": [
       "(4825, 2)"
      ]
     },
     "execution_count": 8,
     "metadata": {},
     "output_type": "execute_result"
    }
   ],
   "source": [
    "df_ham = df[df['Category'] == 'ham']\n",
    "df_ham.shape"
   ]
  },
  {
   "cell_type": "code",
   "execution_count": 9,
   "id": "9dc55f59",
   "metadata": {},
   "outputs": [
    {
     "data": {
      "text/plain": [
       "(747, 2)"
      ]
     },
     "execution_count": 9,
     "metadata": {},
     "output_type": "execute_result"
    }
   ],
   "source": [
    "df_ham_downsampled = df_ham.sample(df_spam.shape[0])\n",
    "df_ham_downsampled.shape"
   ]
  },
  {
   "cell_type": "code",
   "execution_count": 10,
   "id": "abcdaab4",
   "metadata": {},
   "outputs": [
    {
     "data": {
      "text/plain": [
       "(1494, 2)"
      ]
     },
     "execution_count": 10,
     "metadata": {},
     "output_type": "execute_result"
    }
   ],
   "source": [
    "df_balanced = pd.concat([df_ham_downsampled, df_spam])\n",
    "df_balanced.shape"
   ]
  },
  {
   "cell_type": "code",
   "execution_count": 11,
   "id": "551ab0fa",
   "metadata": {},
   "outputs": [
    {
     "data": {
      "text/plain": [
       "Category\n",
       "ham     747\n",
       "spam    747\n",
       "Name: count, dtype: int64"
      ]
     },
     "execution_count": 11,
     "metadata": {},
     "output_type": "execute_result"
    }
   ],
   "source": [
    "df_balanced['Category'].value_counts()"
   ]
  },
  {
   "cell_type": "code",
   "execution_count": 12,
   "id": "c3004aea",
   "metadata": {},
   "outputs": [
    {
     "data": {
      "text/html": [
       "<div>\n",
       "<style scoped>\n",
       "    .dataframe tbody tr th:only-of-type {\n",
       "        vertical-align: middle;\n",
       "    }\n",
       "\n",
       "    .dataframe tbody tr th {\n",
       "        vertical-align: top;\n",
       "    }\n",
       "\n",
       "    .dataframe thead th {\n",
       "        text-align: right;\n",
       "    }\n",
       "</style>\n",
       "<table border=\"1\" class=\"dataframe\">\n",
       "  <thead>\n",
       "    <tr style=\"text-align: right;\">\n",
       "      <th></th>\n",
       "      <th>Category</th>\n",
       "      <th>Message</th>\n",
       "      <th>spam</th>\n",
       "    </tr>\n",
       "  </thead>\n",
       "  <tbody>\n",
       "    <tr>\n",
       "      <th>56</th>\n",
       "      <td>spam</td>\n",
       "      <td>Congrats! 1 year special cinema pass for 2 is ...</td>\n",
       "      <td>1</td>\n",
       "    </tr>\n",
       "    <tr>\n",
       "      <th>3893</th>\n",
       "      <td>spam</td>\n",
       "      <td>URGENT This is our 2nd attempt to contact U. Y...</td>\n",
       "      <td>1</td>\n",
       "    </tr>\n",
       "    <tr>\n",
       "      <th>1497</th>\n",
       "      <td>ham</td>\n",
       "      <td>I'm always on yahoo messenger now. Just send t...</td>\n",
       "      <td>0</td>\n",
       "    </tr>\n",
       "    <tr>\n",
       "      <th>1307</th>\n",
       "      <td>spam</td>\n",
       "      <td>Enjoy the jamster videosound gold club with yo...</td>\n",
       "      <td>1</td>\n",
       "    </tr>\n",
       "    <tr>\n",
       "      <th>4584</th>\n",
       "      <td>spam</td>\n",
       "      <td>For ur chance to win a £250 wkly shopping spre...</td>\n",
       "      <td>1</td>\n",
       "    </tr>\n",
       "  </tbody>\n",
       "</table>\n",
       "</div>"
      ],
      "text/plain": [
       "     Category                                            Message  spam\n",
       "56       spam  Congrats! 1 year special cinema pass for 2 is ...     1\n",
       "3893     spam  URGENT This is our 2nd attempt to contact U. Y...     1\n",
       "1497      ham  I'm always on yahoo messenger now. Just send t...     0\n",
       "1307     spam  Enjoy the jamster videosound gold club with yo...     1\n",
       "4584     spam  For ur chance to win a £250 wkly shopping spre...     1"
      ]
     },
     "execution_count": 12,
     "metadata": {},
     "output_type": "execute_result"
    }
   ],
   "source": [
    "df_balanced['spam'] = df_balanced['Category'].apply(lambda x: 1 if x=='spam' else 0)\n",
    "df_balanced.sample(5)"
   ]
  },
  {
   "cell_type": "code",
   "execution_count": 13,
   "id": "c9cbe4d0",
   "metadata": {},
   "outputs": [],
   "source": [
    "from sklearn.model_selection import train_test_split\n",
    "\n",
    "X_train, X_test, y_train, y_test = train_test_split(df_balanced['Message'], df_balanced['spam'])"
   ]
  },
  {
   "cell_type": "code",
   "execution_count": 14,
   "id": "454d22c8",
   "metadata": {},
   "outputs": [
    {
     "data": {
      "text/plain": [
       "4041                               I'm at home n ready...\n",
       "3111    Good Luck! Draw takes place 28th Feb 06. Good ...\n",
       "3459    Have your lunch and come quickly and open the ...\n",
       "5336    Sounds better than my evening im just doing my...\n",
       "1073    Dear U've been invited to XCHAT. This is our f...\n",
       "Name: Message, dtype: object"
      ]
     },
     "execution_count": 14,
     "metadata": {},
     "output_type": "execute_result"
    }
   ],
   "source": [
    "X_train.head()"
   ]
  },
  {
   "cell_type": "code",
   "execution_count": 15,
   "id": "9ebb4d58",
   "metadata": {},
   "outputs": [
    {
     "data": {
      "text/plain": [
       "((1120,), (1120,))"
      ]
     },
     "execution_count": 15,
     "metadata": {},
     "output_type": "execute_result"
    }
   ],
   "source": [
    "X_train.shape, y_train.shape"
   ]
  },
  {
   "cell_type": "code",
   "execution_count": 16,
   "id": "59a6e58a",
   "metadata": {},
   "outputs": [
    {
     "data": {
      "text/plain": [
       "((374,), (374,))"
      ]
     },
     "execution_count": 16,
     "metadata": {},
     "output_type": "execute_result"
    }
   ],
   "source": [
    "X_test.shape, y_test.shape"
   ]
  },
  {
   "cell_type": "markdown",
   "id": "94a38b7b",
   "metadata": {},
   "source": [
    "### Using BERT model"
   ]
  },
  {
   "cell_type": "code",
   "execution_count": 17,
   "id": "a3f6423f",
   "metadata": {},
   "outputs": [],
   "source": [
    "bert_preprocess = hub.KerasLayer(\"https://tfhub.dev/tensorflow/bert_en_uncased_preprocess/3\")\n",
    "bert_encoder = hub.KerasLayer(\"https://tfhub.dev/tensorflow/bert_en_uncased_L-12_H-768_A-12/4\")"
   ]
  },
  {
   "cell_type": "code",
   "execution_count": 18,
   "id": "7c652038",
   "metadata": {},
   "outputs": [],
   "source": [
    "def get_sentence_embeding(sentences):\n",
    "    preprocessed_text = bert_preprocess(sentences)\n",
    "    return bert_encoder(preprocessed_text)['pooled_output']"
   ]
  },
  {
   "cell_type": "code",
   "execution_count": 19,
   "id": "aad55f5c",
   "metadata": {},
   "outputs": [
    {
     "data": {
      "text/plain": [
       "<tf.Tensor: shape=(2, 768), dtype=float32, numpy=\n",
       "array([[-0.84351707, -0.5132727 , -0.88845736, ..., -0.7474888 ,\n",
       "        -0.75314736,  0.91964495],\n",
       "       [-0.8720835 , -0.5054398 , -0.94446677, ..., -0.858475  ,\n",
       "        -0.7174534 ,  0.8808298 ]], dtype=float32)>"
      ]
     },
     "execution_count": 19,
     "metadata": {},
     "output_type": "execute_result"
    }
   ],
   "source": [
    "get_sentence_embeding([\n",
    "    \"500$ discount. hurry up\", \n",
    "    \"Bhavin, are you up for a volleybal game tomorrow?\"]\n",
    ")"
   ]
  },
  {
   "cell_type": "markdown",
   "id": "726d45d6",
   "metadata": {},
   "source": [
    "#### Get embeding vectors for few sample words. Compare them using cosine similarity"
   ]
  },
  {
   "cell_type": "code",
   "execution_count": 20,
   "id": "26bf760b",
   "metadata": {},
   "outputs": [],
   "source": [
    "e = get_sentence_embeding([\n",
    "    \"banana\", \n",
    "    \"grapes\",\n",
    "    \"mango\",\n",
    "    \"jeff bezos\",\n",
    "    \"elon musk\",\n",
    "    \"bill gates\"\n",
    "])"
   ]
  },
  {
   "cell_type": "code",
   "execution_count": 21,
   "id": "31f4e388",
   "metadata": {},
   "outputs": [
    {
     "data": {
      "text/plain": [
       "array([[0.99110866]], dtype=float32)"
      ]
     },
     "execution_count": 21,
     "metadata": {},
     "output_type": "execute_result"
    }
   ],
   "source": [
    "from sklearn.metrics.pairwise import cosine_similarity\n",
    "cosine_similarity([e[0]], [e[1]])"
   ]
  },
  {
   "cell_type": "markdown",
   "id": "d84629e4",
   "metadata": {},
   "source": [
    "Here, values near to 1 means they are similar. 0 means they are very different."
   ]
  },
  {
   "cell_type": "code",
   "execution_count": 22,
   "id": "141e1efd",
   "metadata": {},
   "outputs": [
    {
     "data": {
      "text/plain": [
       "array([[0.9872034]], dtype=float32)"
      ]
     },
     "execution_count": 22,
     "metadata": {},
     "output_type": "execute_result"
    }
   ],
   "source": [
    "cosine_similarity([e[3]], [e[4]])"
   ]
  },
  {
   "cell_type": "code",
   "execution_count": 23,
   "id": "286ab3f0",
   "metadata": {},
   "outputs": [
    {
     "data": {
      "text/plain": [
       "array([[0.8470381]], dtype=float32)"
      ]
     },
     "execution_count": 23,
     "metadata": {},
     "output_type": "execute_result"
    }
   ],
   "source": [
    "cosine_similarity([e[0]], [e[3]])"
   ]
  },
  {
   "cell_type": "markdown",
   "id": "e10a5760",
   "metadata": {},
   "source": [
    "### Build Model\n",
    "\n",
    "There are two types of models you can build in tensorflow.\n",
    "\n",
    "(1) Sequential (2) Functional\n",
    "\n",
    "So far we have built sequential model. But below we will build functional model. More information on these two is here: https://becominghuman.ai/sequential-vs-functional-model-in-keras-20684f766057"
   ]
  },
  {
   "cell_type": "code",
   "execution_count": 24,
   "id": "1b9badd8",
   "metadata": {},
   "outputs": [],
   "source": [
    "# Bert layers\n",
    "text_input = tf.keras.layers.Input(shape=(), dtype=tf.string, name='text')\n",
    "preprocessed_text = bert_preprocess(text_input)\n",
    "outputs = bert_encoder(preprocessed_text)\n",
    "\n",
    "# Neural Network layers\n",
    "l = tf.keras.layers.Dropout(0.1, name='dropout')(outputs['pooled_output'])\n",
    "l = tf.keras.layers.Dense(1, activation='sigmoid', name='output')(l)\n",
    "\n",
    "# Use inputs and outputs to construct a final model\n",
    "model = tf.keras.Model(inputs=[text_input], outputs=[l])"
   ]
  },
  {
   "cell_type": "code",
   "execution_count": 25,
   "id": "5037f579",
   "metadata": {},
   "outputs": [
    {
     "name": "stdout",
     "output_type": "stream",
     "text": [
      "Model: \"model\"\n",
      "__________________________________________________________________________________________________\n",
      " Layer (type)                   Output Shape         Param #     Connected to                     \n",
      "==================================================================================================\n",
      " text (InputLayer)              [(None,)]            0           []                               \n",
      "                                                                                                  \n",
      " keras_layer (KerasLayer)       {'input_type_ids':   0           ['text[0][0]']                   \n",
      "                                (None, 128),                                                      \n",
      "                                 'input_mask': (Non                                               \n",
      "                                e, 128),                                                          \n",
      "                                 'input_word_ids':                                                \n",
      "                                (None, 128)}                                                      \n",
      "                                                                                                  \n",
      " keras_layer_1 (KerasLayer)     {'encoder_outputs':  109482241   ['keras_layer[0][0]',            \n",
      "                                 [(None, 128, 768),               'keras_layer[0][1]',            \n",
      "                                 (None, 128, 768),                'keras_layer[0][2]']            \n",
      "                                 (None, 128, 768),                                                \n",
      "                                 (None, 128, 768),                                                \n",
      "                                 (None, 128, 768),                                                \n",
      "                                 (None, 128, 768),                                                \n",
      "                                 (None, 128, 768),                                                \n",
      "                                 (None, 128, 768),                                                \n",
      "                                 (None, 128, 768),                                                \n",
      "                                 (None, 128, 768),                                                \n",
      "                                 (None, 128, 768),                                                \n",
      "                                 (None, 128, 768)],                                               \n",
      "                                 'default': (None,                                                \n",
      "                                768),                                                             \n",
      "                                 'sequence_output':                                               \n",
      "                                 (None, 128, 768),                                                \n",
      "                                 'pooled_output': (                                               \n",
      "                                None, 768)}                                                       \n",
      "                                                                                                  \n",
      " dropout (Dropout)              (None, 768)          0           ['keras_layer_1[0][13]']         \n",
      "                                                                                                  \n",
      " output (Dense)                 (None, 1)            769         ['dropout[0][0]']                \n",
      "                                                                                                  \n",
      "==================================================================================================\n",
      "Total params: 109,483,010\n",
      "Trainable params: 769\n",
      "Non-trainable params: 109,482,241\n",
      "__________________________________________________________________________________________________\n"
     ]
    }
   ],
   "source": [
    "model.summary()"
   ]
  },
  {
   "cell_type": "code",
   "execution_count": 26,
   "id": "3bbe56dc",
   "metadata": {},
   "outputs": [
    {
     "data": {
      "text/plain": [
       "1120"
      ]
     },
     "execution_count": 26,
     "metadata": {},
     "output_type": "execute_result"
    }
   ],
   "source": [
    "len(X_train)"
   ]
  },
  {
   "cell_type": "code",
   "execution_count": 27,
   "id": "adb131e5",
   "metadata": {},
   "outputs": [],
   "source": [
    "METRICS = [\n",
    "      tf.keras.metrics.BinaryAccuracy(name='accuracy'),\n",
    "      tf.keras.metrics.Precision(name='precision'),\n",
    "      tf.keras.metrics.Recall(name='recall')\n",
    "]\n",
    "\n",
    "model.compile(optimizer='adam',\n",
    "              loss='binary_crossentropy',\n",
    "              metrics=METRICS)"
   ]
  },
  {
   "cell_type": "code",
   "execution_count": 28,
   "id": "ef44c2c1",
   "metadata": {},
   "outputs": [
    {
     "name": "stdout",
     "output_type": "stream",
     "text": [
      "Epoch 1/10\n",
      "35/35 [==============================] - 224s 6s/step - loss: 0.6355 - accuracy: 0.6589 - precision: 0.6687 - recall: 0.6055\n",
      "Epoch 2/10\n",
      "35/35 [==============================] - 212s 6s/step - loss: 0.5083 - accuracy: 0.8223 - precision: 0.8293 - recall: 0.8036\n",
      "Epoch 3/10\n",
      "35/35 [==============================] - 281s 8s/step - loss: 0.4410 - accuracy: 0.8625 - precision: 0.8561 - recall: 0.8655\n",
      "Epoch 4/10\n",
      "35/35 [==============================] - 490s 14s/step - loss: 0.3918 - accuracy: 0.8884 - precision: 0.8843 - recall: 0.8891\n",
      "Epoch 5/10\n",
      "35/35 [==============================] - 710s 20s/step - loss: 0.3621 - accuracy: 0.8714 - precision: 0.8816 - recall: 0.8527\n",
      "Epoch 6/10\n",
      "35/35 [==============================] - 367s 10s/step - loss: 0.3358 - accuracy: 0.8973 - precision: 0.8809 - recall: 0.9145\n",
      "Epoch 7/10\n",
      "35/35 [==============================] - 221s 6s/step - loss: 0.3188 - accuracy: 0.9036 - precision: 0.8975 - recall: 0.9073\n",
      "Epoch 8/10\n",
      "35/35 [==============================] - 211s 6s/step - loss: 0.3002 - accuracy: 0.9027 - precision: 0.8987 - recall: 0.9036\n",
      "Epoch 9/10\n",
      "35/35 [==============================] - 211s 6s/step - loss: 0.2887 - accuracy: 0.9080 - precision: 0.9027 - recall: 0.9109\n",
      "Epoch 10/10\n",
      "35/35 [==============================] - 210s 6s/step - loss: 0.2841 - accuracy: 0.9071 - precision: 0.9011 - recall: 0.9109\n"
     ]
    },
    {
     "data": {
      "text/plain": [
       "<keras.callbacks.History at 0x2a5300902b0>"
      ]
     },
     "execution_count": 28,
     "metadata": {},
     "output_type": "execute_result"
    }
   ],
   "source": [
    "# Training the model\n",
    "model.fit(X_train, y_train, epochs=10)"
   ]
  },
  {
   "cell_type": "code",
   "execution_count": 29,
   "id": "fefd3b4b",
   "metadata": {},
   "outputs": [
    {
     "name": "stdout",
     "output_type": "stream",
     "text": [
      "12/12 [==============================] - 71s 6s/step - loss: 0.2263 - accuracy: 0.9412 - precision: 0.9534 - recall: 0.9340\n"
     ]
    },
    {
     "data": {
      "text/plain": [
       "[0.22633211314678192,\n",
       " 0.9411764740943909,\n",
       " 0.9533678889274597,\n",
       " 0.9340101480484009]"
      ]
     },
     "execution_count": 29,
     "metadata": {},
     "output_type": "execute_result"
    }
   ],
   "source": [
    "model.evaluate(X_test, y_test)"
   ]
  },
  {
   "cell_type": "code",
   "execution_count": 30,
   "id": "3ab7ae4b",
   "metadata": {},
   "outputs": [
    {
     "name": "stdout",
     "output_type": "stream",
     "text": [
      "12/12 [==============================] - 71s 6s/step\n"
     ]
    }
   ],
   "source": [
    "y_predicted = model.predict(X_test)\n",
    "y_predicted = y_predicted.flatten()"
   ]
  },
  {
   "cell_type": "code",
   "execution_count": 31,
   "id": "a2147777",
   "metadata": {},
   "outputs": [
    {
     "data": {
      "text/plain": [
       "array([0.0155073 , 0.8940224 , 0.01237023, 0.02434373, 0.8739472 ,\n",
       "       0.1822195 , 0.6265199 , 0.04778511, 0.06607402, 0.07855469,\n",
       "       0.04023008, 0.74947256, 0.7470892 , 0.4666894 , 0.07684132,\n",
       "       0.02405998, 0.7936852 , 0.31116882, 0.1250659 , 0.6312428 ,\n",
       "       0.18775195, 0.72228205, 0.8599886 , 0.10720491, 0.42100823,\n",
       "       0.67675817, 0.73079216, 0.03107673, 0.681549  , 0.13498048,\n",
       "       0.9641386 , 0.8367413 , 0.74237007, 0.13618277, 0.10481623,\n",
       "       0.47368243, 0.1259171 , 0.91782045, 0.91792387, 0.01737829,\n",
       "       0.33015093, 0.6742986 , 0.05849727, 0.9579888 , 0.04097015,\n",
       "       0.06120527, 0.9674685 , 0.27870676, 0.8356238 , 0.15259254,\n",
       "       0.07807981, 0.7801925 , 0.8814942 , 0.05000342, 0.9585624 ,\n",
       "       0.1304338 , 0.90543544, 0.91980356, 0.6847556 , 0.12368306,\n",
       "       0.9273961 , 0.83626974, 0.12712313, 0.5796025 , 0.77670443,\n",
       "       0.1202472 , 0.9373925 , 0.37335333, 0.94132406, 0.9299032 ,\n",
       "       0.02645416, 0.9305645 , 0.73526347, 0.07205863, 0.7595656 ,\n",
       "       0.6879851 , 0.91898686, 0.03156765, 0.7072057 , 0.9373925 ,\n",
       "       0.82808524, 0.7957591 , 0.6608596 , 0.4202457 , 0.69299465,\n",
       "       0.1575873 , 0.22689937, 0.58299905, 0.07301792, 0.0512634 ,\n",
       "       0.11445434, 0.9530618 , 0.21226543, 0.66524506, 0.67344755,\n",
       "       0.91369987, 0.9510782 , 0.7816134 , 0.26598603, 0.91483015,\n",
       "       0.02723029, 0.62657756, 0.14718999, 0.08889403, 0.881328  ,\n",
       "       0.4386084 , 0.69780385, 0.81364936, 0.9597561 , 0.7936852 ,\n",
       "       0.6944263 , 0.5621697 , 0.97253263, 0.7734549 , 0.1070623 ,\n",
       "       0.03345471, 0.13482946, 0.01362828, 0.5120856 , 0.7096525 ,\n",
       "       0.785086  , 0.07744528, 0.18242988, 0.0560599 , 0.88403577,\n",
       "       0.0436604 , 0.24765277, 0.4829295 , 0.01791938, 0.65847486,\n",
       "       0.17704968, 0.02336296, 0.09125143, 0.82572114, 0.88420707,\n",
       "       0.3173535 , 0.18016782, 0.1780359 , 0.45281774, 0.81568015,\n",
       "       0.02867259, 0.07017493, 0.7165166 , 0.7041539 , 0.78624547,\n",
       "       0.8442407 , 0.78847367, 0.02407302, 0.09133031, 0.61540455,\n",
       "       0.13401094, 0.79406446, 0.73342794, 0.68993473, 0.02944929,\n",
       "       0.7335006 , 0.18565269, 0.10253179, 0.08851968, 0.51476735,\n",
       "       0.9662056 , 0.03624444, 0.09831741, 0.12844263, 0.9329974 ,\n",
       "       0.15227991, 0.72938025, 0.47140756, 0.09003053, 0.03061564,\n",
       "       0.75865567, 0.77670443, 0.0377643 , 0.9575408 , 0.25133651,\n",
       "       0.01515714, 0.0936681 , 0.6975178 , 0.85632324, 0.6030662 ,\n",
       "       0.87925035, 0.91493905, 0.07580613, 0.8912361 , 0.81818014,\n",
       "       0.8151362 , 0.01729896, 0.92146844, 0.06328864, 0.05787225,\n",
       "       0.44792905, 0.899472  , 0.4181746 , 0.9461658 , 0.9099774 ,\n",
       "       0.21568584, 0.9193887 , 0.06799699, 0.9317995 , 0.27984944,\n",
       "       0.19789946, 0.11231271, 0.66011006, 0.57710475, 0.0345184 ,\n",
       "       0.93406665, 0.95302343, 0.0515123 , 0.62165755, 0.9506914 ,\n",
       "       0.8882924 , 0.71264946, 0.03282889, 0.09221398, 0.8154645 ,\n",
       "       0.9454561 , 0.9533366 , 0.84628195, 0.93345654, 0.06248998,\n",
       "       0.14348482, 0.11368705, 0.9698247 , 0.02244878, 0.12167871,\n",
       "       0.893909  , 0.39054647, 0.07611558, 0.05358356, 0.75865567,\n",
       "       0.9672074 , 0.41368383, 0.9495415 , 0.04934023, 0.02851128,\n",
       "       0.08912223, 0.6965292 , 0.8835377 , 0.08808731, 0.06239666,\n",
       "       0.42924893, 0.9289367 , 0.9174629 , 0.07917675, 0.9524708 ,\n",
       "       0.27734146, 0.7927881 , 0.26719016, 0.05447506, 0.1165349 ,\n",
       "       0.34563142, 0.8912361 , 0.9308739 , 0.4396264 , 0.8489145 ,\n",
       "       0.11253167, 0.13305688, 0.02341611, 0.50331175, 0.07437783,\n",
       "       0.77670443, 0.8095608 , 0.12733054, 0.9361143 , 0.88821316,\n",
       "       0.92311853, 0.04098577, 0.43127495, 0.03785502, 0.17892788,\n",
       "       0.04847878, 0.02387998, 0.9448323 , 0.90816027, 0.9320694 ,\n",
       "       0.15175262, 0.31736416, 0.16641605, 0.8698908 , 0.91483015,\n",
       "       0.02387998, 0.5968351 , 0.89458543, 0.7558911 , 0.02346288,\n",
       "       0.16430137, 0.16904314, 0.55223536, 0.09851782, 0.80179787,\n",
       "       0.64091474, 0.94919133, 0.86906356, 0.76271284, 0.81113124,\n",
       "       0.91782045, 0.85245895, 0.01813786, 0.8853645 , 0.04106119,\n",
       "       0.03543119, 0.07804839, 0.06882849, 0.09505019, 0.1077757 ,\n",
       "       0.943093  , 0.8947483 , 0.59215915, 0.90947974, 0.02253978,\n",
       "       0.01832943, 0.8116762 , 0.533045  , 0.71338826, 0.3176719 ,\n",
       "       0.7216178 , 0.828837  , 0.9665754 , 0.72722465, 0.98632103,\n",
       "       0.89943576, 0.8635299 , 0.01045006, 0.3595378 , 0.8521333 ,\n",
       "       0.02112594, 0.08477756, 0.86289054, 0.7556886 , 0.96252096,\n",
       "       0.17424388, 0.28794596, 0.17550404, 0.09015851, 0.17414664,\n",
       "       0.896846  , 0.7115108 , 0.8921065 , 0.8207257 , 0.29040247,\n",
       "       0.76219857, 0.5606983 , 0.04183566, 0.13485394, 0.947887  ,\n",
       "       0.96481776, 0.95705515, 0.21539001, 0.59521866, 0.78696084,\n",
       "       0.3464884 , 0.48991087, 0.04387851, 0.45661342, 0.0884167 ,\n",
       "       0.09043826, 0.07111214, 0.28234014, 0.7592078 , 0.73742926,\n",
       "       0.93927723, 0.8199467 , 0.14987184, 0.6818511 , 0.9723257 ,\n",
       "       0.8317389 , 0.12716368, 0.90578175, 0.7939707 , 0.26751792,\n",
       "       0.9518968 , 0.04596407, 0.08926495, 0.9519037 ], dtype=float32)"
      ]
     },
     "execution_count": 31,
     "metadata": {},
     "output_type": "execute_result"
    }
   ],
   "source": [
    "import numpy as np\n",
    "\n",
    "y_predicteddicted = np.where(y_predicted > 0.5, 1, 0)\n",
    "y_predicted"
   ]
  },
  {
   "cell_type": "code",
   "execution_count": 36,
   "id": "84a7d389",
   "metadata": {},
   "outputs": [],
   "source": [
    "threshold = 0.5\n",
    "y_predicted_class = (y_predicted > threshold).astype(int)"
   ]
  },
  {
   "cell_type": "code",
   "execution_count": 37,
   "id": "7e25a58f",
   "metadata": {},
   "outputs": [
    {
     "name": "stdout",
     "output_type": "stream",
     "text": [
      "y_test: 4826    0\n",
      "5068    1\n",
      "5511    0\n",
      "4273    0\n",
      "1091    1\n",
      "1791    0\n",
      "2915    1\n",
      "2773    0\n",
      "3079    0\n",
      "2858    0\n",
      "Name: spam, dtype: int64\n",
      "y_predicted_class: [0 1 0 0 1 0 1 0 0 0]\n"
     ]
    }
   ],
   "source": [
    "print(\"y_test:\", y_test[:10])\n",
    "print(\"y_predicted_class:\", y_predicted_class[:10])"
   ]
  },
  {
   "cell_type": "code",
   "execution_count": 38,
   "id": "75b86df6",
   "metadata": {},
   "outputs": [
    {
     "data": {
      "text/plain": [
       "array([[168,   9],\n",
       "       [ 13, 184]], dtype=int64)"
      ]
     },
     "execution_count": 38,
     "metadata": {},
     "output_type": "execute_result"
    }
   ],
   "source": [
    "from sklearn.metrics import confusion_matrix, classification_report\n",
    "\n",
    "cm = confusion_matrix(y_test, y_predicted_class)\n",
    "cm"
   ]
  },
  {
   "cell_type": "code",
   "execution_count": 39,
   "id": "7719c5c2",
   "metadata": {},
   "outputs": [
    {
     "data": {
      "text/plain": [
       "Text(50.722222222222214, 0.5, 'Truth')"
      ]
     },
     "execution_count": 39,
     "metadata": {},
     "output_type": "execute_result"
    },
    {
     "data": {
      "image/png": "[encoded data removed]",
      "text/plain": [
       "<Figure size 640x480 with 2 Axes>"
      ]
     },
     "metadata": {},
     "output_type": "display_data"
    }
   ],
   "source": [
    "from matplotlib import pyplot as plt\n",
    "import seaborn as sn\n",
    "sn.heatmap(cm, annot=True, fmt='d')\n",
    "plt.xlabel('Predicted')\n",
    "plt.ylabel('Truth')"
   ]
  },
  {
   "cell_type": "code",
   "execution_count": 41,
   "id": "745216ce",
   "metadata": {},
   "outputs": [
    {
     "name": "stdout",
     "output_type": "stream",
     "text": [
      "              precision    recall  f1-score   support\n",
      "\n",
      "           0       0.93      0.95      0.94       177\n",
      "           1       0.95      0.93      0.94       197\n",
      "\n",
      "    accuracy                           0.94       374\n",
      "   macro avg       0.94      0.94      0.94       374\n",
      "weighted avg       0.94      0.94      0.94       374\n",
      "\n"
     ]
    }
   ],
   "source": [
    "print(classification_report(y_test, y_predicted_class))"
   ]
  },
  {
   "cell_type": "markdown",
   "id": "d0ff7861",
   "metadata": {},
   "source": [
    "### Inference"
   ]
  },
  {
   "cell_type": "code",
   "execution_count": 42,
   "id": "859c12fe",
   "metadata": {},
   "outputs": [
    {
     "name": "stdout",
     "output_type": "stream",
     "text": [
      "1/1 [==============================] - 2s 2s/step\n"
     ]
    },
    {
     "data": {
      "text/plain": [
       "array([[0.66294646],\n",
       "       [0.79510516],\n",
       "       [0.7216178 ],\n",
       "       [0.17889187],\n",
       "       [0.08367609]], dtype=float32)"
      ]
     },
     "execution_count": 42,
     "metadata": {},
     "output_type": "execute_result"
    }
   ],
   "source": [
    "reviews = [\n",
    "    'Enter a chance to win $5000, hurry up, offer valid until march 31, 2021',\n",
    "    'You are awarded a SiPix Digital Camera! call 09061221061 from landline. Delivery within 28days. T Cs Box177. M221BP. 2yr warranty. 150ppm. 16 . p pÂ£3.99',\n",
    "    'it to 80488. Your 500 free text messages are valid until 31 December 2005.',\n",
    "    'Hey Sam, Are you coming for a cricket game tomorrow',\n",
    "    \"Why don't you wait 'til at least wednesday to see if you get your .\"\n",
    "]\n",
    "model.predict(reviews)"
   ]
  },
  {
   "cell_type": "markdown",
   "id": "e1a6d849",
   "metadata": {},
   "source": [
    "### Using tf serving\n",
    "\n",
    "tf serving makes model version management and model serving very easy."
   ]
  },
  {
   "cell_type": "code",
   "execution_count": 43,
   "id": "84a43946",
   "metadata": {},
   "outputs": [
    {
     "name": "stderr",
     "output_type": "stream",
     "text": [
      "WARNING:absl:Found untraced functions such as restored_function_body, restored_function_body, restored_function_body, restored_function_body, restored_function_body while saving (showing 5 of 366). These functions will not be directly callable after loading.\n"
     ]
    },
    {
     "name": "stdout",
     "output_type": "stream",
     "text": [
      "INFO:tensorflow:Assets written to: saved_models/1/assets\n"
     ]
    },
    {
     "name": "stderr",
     "output_type": "stream",
     "text": [
      "INFO:tensorflow:Assets written to: saved_models/1/assets\n"
     ]
    }
   ],
   "source": [
    "model.save(\"saved_models/1/\")"
   ]
  },
  {
   "cell_type": "code",
   "execution_count": 44,
   "id": "f9751f61",
   "metadata": {},
   "outputs": [
    {
     "name": "stderr",
     "output_type": "stream",
     "text": [
      "WARNING:absl:Found untraced functions such as restored_function_body, restored_function_body, restored_function_body, restored_function_body, restored_function_body while saving (showing 5 of 366). These functions will not be directly callable after loading.\n"
     ]
    },
    {
     "name": "stdout",
     "output_type": "stream",
     "text": [
      "INFO:tensorflow:Assets written to: saved_models/2/assets\n"
     ]
    },
    {
     "name": "stderr",
     "output_type": "stream",
     "text": [
      "INFO:tensorflow:Assets written to: saved_models/2/assets\n"
     ]
    }
   ],
   "source": [
    "model.save(\"saved_models/2/\")"
   ]
  },
  {
   "cell_type": "code",
   "execution_count": 45,
   "id": "242a6736",
   "metadata": {},
   "outputs": [
    {
     "name": "stderr",
     "output_type": "stream",
     "text": [
      "WARNING:absl:Found untraced functions such as restored_function_body, restored_function_body, restored_function_body, restored_function_body, restored_function_body while saving (showing 5 of 366). These functions will not be directly callable after loading.\n"
     ]
    },
    {
     "name": "stdout",
     "output_type": "stream",
     "text": [
      "INFO:tensorflow:Assets written to: saved_models/3/assets\n"
     ]
    },
    {
     "name": "stderr",
     "output_type": "stream",
     "text": [
      "INFO:tensorflow:Assets written to: saved_models/3/assets\n"
     ]
    }
   ],
   "source": [
    "model.save(\"saved_models/3/\")"
   ]
  },
  {
   "cell_type": "code",
   "execution_count": null,
   "id": "aec33ca6",
   "metadata": {},
   "outputs": [],
   "source": []
  }
 ],
 "metadata": {
  "kernelspec": {
   "display_name": "Python 3 (ipykernel)",
   "language": "python",
   "name": "python3"
  },
  "language_info": {
   "codemirror_mode": {
    "name": "ipython",
    "version": 3
   },
   "file_extension": ".py",
   "mimetype": "text/x-python",
   "name": "python",
   "nbconvert_exporter": "python",
   "pygments_lexer": "ipython3",
   "version": "3.10.9"
  }
 },
 "nbformat": 4,
 "nbformat_minor": 5
}
