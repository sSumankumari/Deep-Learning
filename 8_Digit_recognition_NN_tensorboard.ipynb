{
 "cells": [
  {
   "cell_type": "markdown",
   "id": "081f03ed",
   "metadata": {},
   "source": [
    "# Tensorboard using Handwritten Digits Classification using NN"
   ]
  },
  {
   "cell_type": "markdown",
   "id": "1f3ef57e",
   "metadata": {},
   "source": [
    "Tensorboard is a tool that comes with tensorflow and it allows you to visualize neural network as well as how it trains itself. This tool is very helpful in debugging issues too."
   ]
  },
  {
   "cell_type": "code",
   "execution_count": 1,
   "id": "e99583e9",
   "metadata": {},
   "outputs": [],
   "source": [
    "import tensorflow as tf\n",
    "from tensorflow import keras\n",
    "import matplotlib.pyplot as plt\n",
    "%matplotlib inline\n",
    "import numpy as np"
   ]
  },
  {
   "cell_type": "code",
   "execution_count": 2,
   "id": "8428921c",
   "metadata": {},
   "outputs": [],
   "source": [
    "(X_train, y_train), (X_test, y_test) = keras.datasets.mnist.load_data()"
   ]
  },
  {
   "cell_type": "code",
   "execution_count": 4,
   "id": "72508188",
   "metadata": {},
   "outputs": [
    {
     "data": {
      "text/plain": [
       "(60000, 60000)"
      ]
     },
     "execution_count": 4,
     "metadata": {},
     "output_type": "execute_result"
    }
   ],
   "source": [
    "len(X_train), len(y_train)"
   ]
  },
  {
   "cell_type": "code",
   "execution_count": 5,
   "id": "eadc8ef5",
   "metadata": {},
   "outputs": [
    {
     "data": {
      "text/plain": [
       "(10000, 10000)"
      ]
     },
     "execution_count": 5,
     "metadata": {},
     "output_type": "execute_result"
    }
   ],
   "source": [
    "len(X_test), len(y_test)"
   ]
  },
  {
   "cell_type": "code",
   "execution_count": 6,
   "id": "debba956",
   "metadata": {},
   "outputs": [
    {
     "data": {
      "text/plain": [
       "(28, 28)"
      ]
     },
     "execution_count": 6,
     "metadata": {},
     "output_type": "execute_result"
    }
   ],
   "source": [
    "X_train[0].shape"
   ]
  },
  {
   "cell_type": "code",
   "execution_count": 7,
   "id": "bf562106",
   "metadata": {},
   "outputs": [
    {
     "data": {
      "text/plain": [
       "<matplotlib.image.AxesImage at 0x210db8e0040>"
      ]
     },
     "execution_count": 7,
     "metadata": {},
     "output_type": "execute_result"
    },
    {
     "data": {
      "image/png": "[encoded data removed]",
      "text/plain": [
       "<Figure size 480x480 with 1 Axes>"
      ]
     },
     "metadata": {},
     "output_type": "display_data"
    }
   ],
   "source": [
    "plt.matshow(X_train[0])"
   ]
  },
  {
   "cell_type": "code",
   "execution_count": 8,
   "id": "72a7e7a7",
   "metadata": {},
   "outputs": [
    {
     "data": {
      "text/plain": [
       "5"
      ]
     },
     "execution_count": 8,
     "metadata": {},
     "output_type": "execute_result"
    }
   ],
   "source": [
    "y_train[0]"
   ]
  },
  {
   "cell_type": "code",
   "execution_count": 9,
   "id": "97286e47",
   "metadata": {},
   "outputs": [],
   "source": [
    "X_train = X_train / 255\n",
    "X_test = X_test / 255"
   ]
  },
  {
   "cell_type": "code",
   "execution_count": 10,
   "id": "983336ce",
   "metadata": {},
   "outputs": [],
   "source": [
    "X_train_flattened = X_train.reshape(len(X_train), 28*28)\n",
    "X_test_flattened = X_test.reshape(len(X_test), 28*28)"
   ]
  },
  {
   "cell_type": "code",
   "execution_count": 11,
   "id": "9e0239bd",
   "metadata": {},
   "outputs": [
    {
     "data": {
      "text/plain": [
       "(60000, 784)"
      ]
     },
     "execution_count": 11,
     "metadata": {},
     "output_type": "execute_result"
    }
   ],
   "source": [
    "X_train_flattened.shape"
   ]
  },
  {
   "cell_type": "markdown",
   "id": "cc4c64bd",
   "metadata": {},
   "source": [
    "## Using Flatten layer so that we don't have to call .reshape on input dataset"
   ]
  },
  {
   "cell_type": "code",
   "execution_count": 19,
   "id": "75b0224e",
   "metadata": {},
   "outputs": [
    {
     "name": "stdout",
     "output_type": "stream",
     "text": [
      "Epoch 1/5\n",
      "1875/1875 [==============================] - 3s 2ms/step - loss: 0.2693 - accuracy: 0.9235\n",
      "Epoch 2/5\n",
      "1875/1875 [==============================] - 3s 2ms/step - loss: 0.1210 - accuracy: 0.9643\n",
      "Epoch 3/5\n",
      "1875/1875 [==============================] - 3s 2ms/step - loss: 0.0846 - accuracy: 0.9736\n",
      "Epoch 4/5\n",
      "1875/1875 [==============================] - 3s 2ms/step - loss: 0.0633 - accuracy: 0.9805\n",
      "Epoch 5/5\n",
      "1875/1875 [==============================] - 3s 2ms/step - loss: 0.0509 - accuracy: 0.9842\n"
     ]
    },
    {
     "data": {
      "text/plain": [
       "<keras.src.callbacks.History at 0x210dda34b50>"
      ]
     },
     "execution_count": 19,
     "metadata": {},
     "output_type": "execute_result"
    }
   ],
   "source": [
    "model = keras.Sequential([\n",
    "    keras.layers.Flatten(input_shape=(28, 28)),\n",
    "    keras.layers.Dense(100, activation='relu'),\n",
    "    keras.layers.Dense(10, activation='sigmoid')\n",
    "])\n",
    "\n",
    "model.compile(optimizer='adam',\n",
    "             loss='sparse_categorical_crossentropy',\n",
    "             metrics=['accuracy'])\n",
    "\n",
    "# Using Tensorboard\n",
    "tb_callback = tf.keras.callbacks.TensorBoard(log_dir='logs/adam', histogram_freq=1)\n",
    "\n",
    "model.fit(X_train, y_train, epochs=5, callbacks=[tb_callback])"
   ]
  },
  {
   "cell_type": "code",
   "execution_count": 21,
   "id": "8cf509d6",
   "metadata": {},
   "outputs": [
    {
     "name": "stdout",
     "output_type": "stream",
     "text": [
      "Epoch 1/5\n",
      "1875/1875 [==============================] - 3s 1ms/step - loss: 0.6563 - accuracy: 0.8359\n",
      "Epoch 2/5\n",
      "1875/1875 [==============================] - 3s 1ms/step - loss: 0.3392 - accuracy: 0.9053\n",
      "Epoch 3/5\n",
      "1875/1875 [==============================] - 3s 1ms/step - loss: 0.2904 - accuracy: 0.9187\n",
      "Epoch 4/5\n",
      "1875/1875 [==============================] - 2s 1ms/step - loss: 0.2589 - accuracy: 0.9272\n",
      "Epoch 5/5\n",
      "1875/1875 [==============================] - 3s 1ms/step - loss: 0.2349 - accuracy: 0.9340\n"
     ]
    },
    {
     "data": {
      "text/plain": [
       "<keras.src.callbacks.History at 0x210dd678bb0>"
      ]
     },
     "execution_count": 21,
     "metadata": {},
     "output_type": "execute_result"
    }
   ],
   "source": [
    "model = keras.Sequential([\n",
    "    keras.layers.Flatten(input_shape=(28, 28)),\n",
    "    keras.layers.Dense(100, activation='relu'),\n",
    "    keras.layers.Dense(10, activation='sigmoid')\n",
    "])\n",
    "\n",
    "# SGD --> Stochastic Gradient Descent\n",
    "model.compile(optimizer='SGD',\n",
    "             loss='sparse_categorical_crossentropy',\n",
    "             metrics=['accuracy'])\n",
    "\n",
    "# Using Tensorboard\n",
    "tb_callback = tf.keras.callbacks.TensorBoard(log_dir='logs/SGD', histogram_freq=1)\n",
    "\n",
    "model.fit(X_train, y_train, epochs=5, callbacks=[tb_callback])"
   ]
  },
  {
   "cell_type": "code",
   "execution_count": 22,
   "id": "b456c775",
   "metadata": {},
   "outputs": [],
   "source": [
    "# %load_ext tensorboard\n",
    "# %tensorboard --logdir logs/fit"
   ]
  },
  {
   "cell_type": "markdown",
   "id": "4244d7b9",
   "metadata": {},
   "source": [
    "Either run above inline magic or go to git bash or your command prompt and type below to run it,\n",
    "`tensorboard --logdir logs/`\n",
    "This will launch tensorboard at this url which you can open in your browser `http://localhost:6006/`"
   ]
  },
  {
   "cell_type": "code",
   "execution_count": 23,
   "id": "24cadd9e",
   "metadata": {},
   "outputs": [
    {
     "data": {
      "text/plain": [
       "[array([[-0.01600464,  0.03238254, -0.0519876 , ...,  0.05110954,\n",
       "          0.05027592, -0.02843234],\n",
       "        [-0.07465027, -0.04278088, -0.04955715, ..., -0.0273499 ,\n",
       "          0.0448868 ,  0.07768895],\n",
       "        [ 0.07047527, -0.02763749, -0.06066421, ..., -0.01847678,\n",
       "          0.01139637,  0.01504634],\n",
       "        ...,\n",
       "        [-0.03207905, -0.04536262, -0.04248732, ...,  0.07876809,\n",
       "          0.07321031, -0.07513236],\n",
       "        [-0.07173486,  0.00573638, -0.06608343, ..., -0.0297421 ,\n",
       "         -0.05052427, -0.07542564],\n",
       "        [-0.01326059,  0.01921091, -0.07219967, ..., -0.00254606,\n",
       "         -0.03634251, -0.00542421]], dtype=float32),\n",
       " array([-0.03157503, -0.0004176 , -0.00261496,  0.00386759,  0.08608864,\n",
       "         0.00499813,  0.02157314,  0.0083021 ,  0.01116698,  0.02976851,\n",
       "         0.08670807, -0.01603547,  0.12234829,  0.04464076, -0.01286539,\n",
       "         0.05309465,  0.03678431, -0.15852761,  0.05529729, -0.02926995,\n",
       "         0.09814966, -0.00934583, -0.01505346,  0.03336309,  0.04169235,\n",
       "         0.01135012, -0.04806357, -0.01916226,  0.00974882,  0.00794481,\n",
       "         0.02538488,  0.04697667, -0.06120231, -0.00960015, -0.02682618,\n",
       "         0.04681478, -0.00080477,  0.01670201,  0.01735421,  0.06039947,\n",
       "         0.03667687,  0.03112549,  0.01330232, -0.01223025, -0.06203783,\n",
       "         0.00717014,  0.04080505,  0.03113353,  0.1497422 ,  0.009713  ,\n",
       "        -0.00591313,  0.02031096,  0.04313776, -0.02162555,  0.00141607,\n",
       "         0.00335989,  0.00706663,  0.08056588,  0.0076334 ,  0.01378052,\n",
       "        -0.04504789,  0.06488306,  0.02084053,  0.00439827,  0.00450853,\n",
       "         0.05579403, -0.01220326,  0.06571409, -0.04350803,  0.03770096,\n",
       "         0.0781209 ,  0.06219727,  0.0072349 ,  0.08123276,  0.0922926 ,\n",
       "         0.11550703,  0.04634679, -0.01218734,  0.03256881,  0.02946734,\n",
       "        -0.006644  ,  0.00751763,  0.14114751,  0.10285856,  0.01807974,\n",
       "         0.01279305,  0.07767312, -0.00772056, -0.01379997,  0.07016592,\n",
       "        -0.03966115,  0.13978651,  0.13117042,  0.00438501, -0.01516133,\n",
       "        -0.01326109,  0.04328259,  0.0344176 ,  0.11972411, -0.00349643],\n",
       "       dtype=float32),\n",
       " array([[-3.55219483e-01,  1.47817224e-01,  3.01304311e-01,\n",
       "         -2.70843357e-01,  2.73825914e-01, -3.78984362e-01,\n",
       "          2.88248122e-01,  2.17291951e-01,  3.55106324e-01,\n",
       "          2.03326300e-01],\n",
       "        [-1.18223883e-01,  1.55131146e-01, -2.13745669e-01,\n",
       "          2.37046018e-01,  1.00471109e-01, -2.11508542e-01,\n",
       "         -1.42975738e-02, -9.49431770e-03, -2.62320731e-02,\n",
       "         -2.25448832e-01],\n",
       "        [-1.16212614e-01,  2.08701178e-01,  2.62229502e-01,\n",
       "          5.92951775e-02, -7.13507012e-02, -5.37997261e-02,\n",
       "         -5.46168387e-02, -4.88659218e-02, -6.26171231e-02,\n",
       "         -6.70483336e-02],\n",
       "        [ 1.59445837e-01,  1.83522150e-01,  2.89080311e-02,\n",
       "          2.64635980e-01,  2.03447025e-02,  7.82758445e-02,\n",
       "         -1.86587155e-01,  1.24300227e-01,  1.61514446e-01,\n",
       "         -3.72463604e-03],\n",
       "        [-2.00849003e-03,  6.86768517e-02,  1.06900655e-01,\n",
       "         -2.60642439e-01,  2.86921352e-01,  3.52841705e-01,\n",
       "         -7.14928657e-03,  3.98159064e-02, -3.31769377e-01,\n",
       "         -2.02769741e-01],\n",
       "        [-1.82600215e-01,  1.39016449e-01,  1.44615099e-01,\n",
       "         -2.98511237e-02, -2.67854221e-02,  1.75949737e-01,\n",
       "         -6.43214509e-02, -2.09863670e-02,  1.79814711e-01,\n",
       "          1.60328466e-02],\n",
       "        [-2.95829117e-01,  1.03341350e-02,  1.30320042e-01,\n",
       "         -2.45801657e-01, -3.91034298e-02,  1.87943801e-01,\n",
       "         -1.40797883e-01, -4.30623353e-01,  3.12044740e-01,\n",
       "         -1.99299708e-01],\n",
       "        [ 3.99978220e-01, -1.32984728e-01,  3.85321587e-01,\n",
       "         -3.04962369e-03, -3.51186603e-01, -2.66898543e-01,\n",
       "          1.74670577e-01,  1.10246405e-01, -3.17616284e-01,\n",
       "          1.92941912e-02],\n",
       "        [ 3.43917847e-01, -1.11164406e-01,  1.31882861e-01,\n",
       "         -6.81212470e-02,  1.33024335e-01,  2.23943014e-02,\n",
       "         -2.80494422e-01,  1.09889343e-01,  1.62520945e-01,\n",
       "         -2.49848768e-01],\n",
       "        [ 4.71108928e-02, -1.02731623e-02,  2.64725327e-01,\n",
       "          9.44836438e-02,  1.35471106e-01,  2.20058173e-01,\n",
       "         -2.48421431e-01, -3.54328975e-02, -6.89197928e-02,\n",
       "         -1.01721838e-01],\n",
       "        [-2.18151048e-01,  9.62589160e-02, -2.23388568e-01,\n",
       "         -9.58639849e-03,  3.56454849e-01,  2.48608410e-01,\n",
       "         -2.43435383e-01, -1.79067835e-01, -1.68176010e-01,\n",
       "         -2.04516813e-01],\n",
       "        [ 8.59097466e-02,  8.35299958e-03,  7.56949633e-02,\n",
       "         -2.24993333e-01, -1.96019486e-02, -1.40813231e-01,\n",
       "         -2.32357234e-01, -1.92362815e-01,  4.57844920e-02,\n",
       "         -8.36985260e-02],\n",
       "        [-9.82572883e-02,  8.02041739e-02, -1.19178616e-01,\n",
       "          1.39531806e-01,  1.52862235e-03,  2.96131641e-01,\n",
       "         -1.86814889e-01,  4.15326238e-01, -2.44560838e-01,\n",
       "          1.73727438e-01],\n",
       "        [-2.89477199e-01,  3.08525801e-01, -3.00213844e-01,\n",
       "         -4.11619365e-01, -1.67531744e-02, -7.89877493e-03,\n",
       "          4.62781303e-02, -1.21758163e-01,  1.77462608e-01,\n",
       "         -2.33037341e-02],\n",
       "        [ 9.11872461e-02, -2.10748613e-01, -1.06391340e-01,\n",
       "         -1.49318412e-01,  1.15990803e-01,  7.86183700e-02,\n",
       "         -1.44812629e-01, -4.83285226e-02, -1.45743325e-01,\n",
       "         -1.52743235e-01],\n",
       "        [-1.34066507e-01,  2.65482187e-01,  2.64703363e-01,\n",
       "          1.86378092e-01, -3.47041070e-01, -1.73634246e-01,\n",
       "          1.62286088e-01, -1.61348119e-01, -2.76858836e-01,\n",
       "         -3.66935693e-02],\n",
       "        [ 1.10310420e-01, -8.52026790e-02,  2.57086098e-01,\n",
       "         -2.61130452e-01, -2.19247445e-01,  2.97443271e-01,\n",
       "          2.18650833e-01,  6.17480241e-02, -1.41005710e-01,\n",
       "          3.33680600e-01],\n",
       "        [ 1.72262833e-01, -4.66372758e-01,  1.20152578e-01,\n",
       "         -8.36805478e-02,  1.20275237e-01, -2.57057786e-01,\n",
       "          3.68212610e-01, -3.97107303e-01,  3.67612153e-01,\n",
       "          3.23931277e-01],\n",
       "        [ 6.41586538e-03,  1.60869630e-03,  2.42001444e-01,\n",
       "          5.62144406e-02, -1.02083385e-01, -8.57129097e-02,\n",
       "         -5.13586923e-02,  3.25375527e-01, -2.36386865e-01,\n",
       "          2.45376959e-01],\n",
       "        [ 9.25922841e-02, -3.24610651e-01,  3.24997932e-01,\n",
       "         -7.42938593e-02,  2.61256397e-01, -1.31797597e-01,\n",
       "         -3.91415656e-01,  9.48387682e-02,  2.46220246e-01,\n",
       "         -1.42733574e-01],\n",
       "        [-1.73045248e-01, -2.74704665e-01,  1.78762022e-02,\n",
       "         -3.40053827e-01,  3.81958187e-01, -5.95310107e-02,\n",
       "          2.97036637e-02,  4.31257218e-01, -1.10739544e-01,\n",
       "          1.06529132e-01],\n",
       "        [-3.38587016e-01,  6.32347390e-02, -1.74591586e-01,\n",
       "          1.51616096e-01,  7.51178190e-02, -1.31775260e-01,\n",
       "         -3.12368155e-01, -2.68776417e-02,  1.12448968e-01,\n",
       "          2.77251691e-01],\n",
       "        [ 1.93201452e-01, -9.48685512e-04, -2.48465538e-01,\n",
       "          4.31083851e-02,  3.41642625e-03, -1.84114173e-01,\n",
       "          2.36424759e-01,  2.43913546e-01,  1.10068098e-01,\n",
       "          2.69613504e-01],\n",
       "        [ 9.42502245e-02, -2.50298362e-02, -1.62327677e-01,\n",
       "         -1.62463486e-01,  6.54263720e-02, -1.58290386e-01,\n",
       "          8.48653540e-02,  2.52662867e-01, -2.64764071e-01,\n",
       "          1.10412449e-01],\n",
       "        [-2.01289624e-01, -1.12828746e-01,  1.68771163e-01,\n",
       "          3.76009606e-02, -3.00949104e-02,  1.76164404e-01,\n",
       "          3.64781767e-02, -1.00158807e-02, -1.31821901e-01,\n",
       "          3.68428323e-03],\n",
       "        [-2.43064940e-01,  1.64942488e-01,  7.98681602e-02,\n",
       "          2.85563678e-01,  2.31745631e-01,  5.96230328e-02,\n",
       "         -5.79419173e-02,  9.36658010e-02, -7.54501224e-02,\n",
       "          1.62459593e-02],\n",
       "        [ 3.98014933e-01,  1.59124613e-01,  1.66525692e-01,\n",
       "          1.87373728e-01, -3.68692815e-01, -2.10517004e-01,\n",
       "          4.39933151e-01, -4.41972286e-01,  1.49148703e-01,\n",
       "         -2.11463213e-01],\n",
       "        [-3.58482420e-01,  2.53171086e-01, -1.75460383e-01,\n",
       "          3.82386684e-01, -7.20218495e-02, -1.70910895e-01,\n",
       "         -3.16816121e-01,  9.24601257e-02,  1.90826371e-01,\n",
       "          5.20149656e-02],\n",
       "        [ 5.01965284e-02,  1.31797776e-01,  2.47420907e-01,\n",
       "          3.29906702e-01,  2.09529176e-01, -4.64051813e-01,\n",
       "         -2.33173415e-01, -1.31149022e-02, -2.18534485e-01,\n",
       "          2.75999345e-02],\n",
       "        [-2.79971898e-01,  2.23817676e-01,  3.41525644e-01,\n",
       "         -1.55021548e-01, -2.22192481e-01,  4.86043058e-02,\n",
       "         -1.55907691e-01, -2.87973940e-01,  3.13722640e-01,\n",
       "          2.23196030e-01],\n",
       "        [-1.17197335e-02, -1.09586800e-02, -1.10824173e-02,\n",
       "          6.55474737e-02,  2.66202241e-01, -1.35343269e-01,\n",
       "         -2.65494794e-01,  8.97728205e-02, -2.78071493e-01,\n",
       "          5.96403293e-02],\n",
       "        [-8.76124576e-02, -1.61744088e-01,  8.85826256e-03,\n",
       "         -6.74238726e-02, -6.82131946e-02, -9.39622223e-02,\n",
       "          3.22679132e-01,  9.50576812e-02, -3.02707165e-01,\n",
       "         -2.02430144e-01],\n",
       "        [ 3.18839401e-01, -3.91841859e-01,  5.65842874e-02,\n",
       "          2.91367173e-01,  1.72954068e-01, -8.59399959e-02,\n",
       "         -3.30131948e-02, -2.40929663e-01,  1.56567767e-01,\n",
       "         -4.51618843e-02],\n",
       "        [-2.77659178e-01,  2.87965126e-02,  2.26997092e-01,\n",
       "          4.09926265e-01,  4.74404059e-02, -1.48062214e-01,\n",
       "          3.59045761e-03,  2.78271407e-01,  9.99838635e-02,\n",
       "          1.17434263e-01],\n",
       "        [ 5.64135239e-02,  1.69496432e-01, -1.40487701e-01,\n",
       "          2.16327950e-01, -5.93753271e-02, -3.23019773e-01,\n",
       "          1.91435248e-01, -1.57201700e-02, -1.51583463e-01,\n",
       "          3.27698886e-01],\n",
       "        [-2.10231721e-01,  3.07743967e-01, -7.31630251e-02,\n",
       "         -2.37948045e-01, -2.52855361e-01,  3.48257035e-01,\n",
       "          2.16637328e-01,  1.70307010e-01, -9.07244980e-02,\n",
       "          1.65481165e-01],\n",
       "        [ 1.44630268e-01, -2.97092557e-01,  2.17618302e-01,\n",
       "         -2.19726682e-01, -1.89105317e-01,  2.20605791e-01,\n",
       "         -1.80608779e-01, -1.48248762e-01,  2.31141403e-01,\n",
       "         -2.32967943e-01],\n",
       "        [-2.14161351e-01, -1.24900959e-01,  1.70184836e-01,\n",
       "          7.79496729e-02,  3.19356203e-01, -3.33850861e-01,\n",
       "          2.99318612e-01,  2.06646040e-01, -4.51441407e-02,\n",
       "         -6.89129606e-02],\n",
       "        [-8.99556354e-02,  2.74722010e-01, -1.44582048e-01,\n",
       "         -2.94862092e-01,  1.51458234e-01, -1.81085855e-01,\n",
       "         -1.49056956e-01, -6.97431862e-02, -2.81741142e-01,\n",
       "         -1.32894874e-01],\n",
       "        [ 2.29104355e-01,  1.98012769e-01, -2.12197319e-01,\n",
       "         -3.71147186e-01, -3.25041451e-02,  1.03262827e-01,\n",
       "         -1.43947855e-01,  3.62877361e-02, -3.05978596e-01,\n",
       "          2.08916843e-01],\n",
       "        [-2.30235368e-01,  4.84755076e-02,  7.86023363e-02,\n",
       "         -1.33934125e-01, -2.17631206e-01,  7.24725947e-02,\n",
       "          3.81299257e-01,  1.86979294e-01,  7.36447349e-02,\n",
       "         -3.63098800e-01],\n",
       "        [ 8.65424797e-02, -5.26650809e-02, -2.68357396e-01,\n",
       "          1.33766562e-01, -3.12264621e-01,  3.34474862e-01,\n",
       "          1.81459747e-02,  5.94370738e-02, -9.30192545e-02,\n",
       "          1.89678580e-01],\n",
       "        [-2.62932152e-01, -7.57169649e-02,  1.25506386e-01,\n",
       "         -8.64798129e-02, -2.83860788e-02, -1.34930611e-01,\n",
       "         -1.85989574e-01,  1.90422192e-01,  1.66355789e-01,\n",
       "         -2.70365357e-01],\n",
       "        [ 4.50670831e-02,  3.95317702e-03, -3.06363199e-02,\n",
       "          1.71998173e-01,  7.21642673e-02,  1.70385763e-02,\n",
       "         -9.60539728e-02, -1.91688970e-01,  2.00353250e-01,\n",
       "         -1.02956720e-01],\n",
       "        [ 1.66546509e-01,  2.87693769e-01,  2.44887829e-01,\n",
       "          1.94200411e-01, -3.54148075e-02, -1.94822088e-01,\n",
       "         -2.70260334e-01,  1.45396888e-01,  2.56191432e-01,\n",
       "         -2.73450434e-01],\n",
       "        [-6.14213350e-04,  2.07603037e-01,  6.77218288e-02,\n",
       "         -2.02314317e-01,  4.08808708e-01, -1.64721832e-01,\n",
       "         -2.41311993e-02, -3.52612734e-02, -5.80472089e-02,\n",
       "         -3.03164840e-01],\n",
       "        [-3.05494487e-01,  3.50014642e-02, -6.19235495e-03,\n",
       "          1.32147357e-01,  1.13033786e-01,  1.38393745e-01,\n",
       "          3.78104210e-01, -2.82832235e-01, -3.30935627e-01,\n",
       "          6.61822185e-02],\n",
       "        [-3.07367504e-01,  1.73907697e-01,  1.08698107e-01,\n",
       "          4.44058090e-01, -2.25687951e-01,  3.36858630e-01,\n",
       "         -2.37754107e-01, -1.72042355e-01, -2.84488738e-01,\n",
       "          3.18815172e-01],\n",
       "        [-9.29709151e-02,  1.81736887e-01,  4.58660990e-01,\n",
       "         -2.42511988e-01,  3.71007323e-01,  2.62842983e-01,\n",
       "          3.92977536e-01, -6.11254424e-02, -5.21540880e-01,\n",
       "         -4.09539193e-01],\n",
       "        [ 6.95919767e-02, -1.67896762e-01, -2.66291410e-01,\n",
       "         -2.78608531e-01,  1.12449661e-01, -7.82697573e-02,\n",
       "         -1.14954434e-01, -7.93907940e-02,  8.20930079e-02,\n",
       "          2.81335384e-01],\n",
       "        [-1.44482125e-03, -3.41014385e-01,  1.57520816e-01,\n",
       "          7.81767294e-02, -2.39764005e-01, -2.29578272e-01,\n",
       "         -3.71663898e-01,  1.50811702e-01, -7.31770843e-02,\n",
       "          1.48927718e-01],\n",
       "        [-1.66358143e-01, -3.55977356e-01, -4.27931547e-01,\n",
       "          1.14180539e-02,  4.33757305e-01,  2.89632320e-01,\n",
       "          1.14768967e-01, -1.72533676e-01, -2.22817864e-02,\n",
       "          1.07109651e-01],\n",
       "        [-2.98130423e-01,  5.46401329e-02,  3.81118715e-01,\n",
       "         -1.62943572e-01,  2.87670374e-01,  1.06129482e-01,\n",
       "         -7.94558600e-02, -3.20967346e-01, -1.10908234e-02,\n",
       "         -7.54086301e-02],\n",
       "        [-1.94540191e-02,  2.24899992e-01,  1.58755362e-01,\n",
       "         -1.31192371e-01,  1.88937426e-01,  1.66678891e-01,\n",
       "          1.50371045e-01, -1.60782069e-01,  1.12996995e-01,\n",
       "          1.99506268e-01],\n",
       "        [-1.16308697e-01, -7.00792000e-02,  3.94074731e-02,\n",
       "         -1.04935959e-01,  2.69426797e-02, -1.36995450e-01,\n",
       "         -1.50772901e-02,  9.53161642e-02, -7.25691617e-02,\n",
       "         -9.16011781e-02],\n",
       "        [-4.81970273e-02,  1.63367614e-01, -1.91829368e-01,\n",
       "         -1.57207102e-01,  2.16939803e-02,  1.32509202e-01,\n",
       "         -5.28599732e-02, -1.02850392e-01,  1.39850244e-01,\n",
       "         -8.31343085e-02],\n",
       "        [ 5.79337440e-02, -2.90005863e-01, -4.31281179e-01,\n",
       "         -2.53494471e-01,  1.76562920e-01,  2.22498268e-01,\n",
       "         -3.55538204e-02, -2.26180926e-01,  2.19407052e-01,\n",
       "          1.99332103e-01],\n",
       "        [ 1.44946694e-01, -3.15274626e-01,  8.69593024e-02,\n",
       "         -1.81710288e-01,  7.70094469e-02,  1.67119987e-02,\n",
       "         -6.15409901e-03,  1.25797793e-01, -2.79771149e-01,\n",
       "          2.76972324e-01],\n",
       "        [ 3.77068341e-01, -2.84183949e-01,  2.10486144e-01,\n",
       "         -1.07834609e-02,  5.12361489e-02,  7.64717981e-02,\n",
       "          1.35611719e-03, -2.52849191e-01, -2.60133088e-01,\n",
       "         -2.79587626e-01],\n",
       "        [-1.07205331e-01, -8.12500492e-02, -1.58609092e-01,\n",
       "          2.66051609e-02,  1.93423033e-01, -5.93873188e-02,\n",
       "         -2.68397987e-01, -2.92372461e-02, -2.23858312e-01,\n",
       "          4.83334124e-01],\n",
       "        [ 1.27701551e-01,  2.29753792e-01,  1.60390645e-01,\n",
       "         -1.52766839e-01, -1.16516583e-01, -2.32732221e-01,\n",
       "          5.88638335e-02, -1.36805877e-01,  3.25277984e-01,\n",
       "          2.23337654e-02],\n",
       "        [ 1.53617859e-01,  8.73982161e-02, -9.73434299e-02,\n",
       "         -3.41500372e-01, -2.19093859e-01,  2.64836282e-01,\n",
       "         -2.16352597e-01, -1.60494387e-01, -1.43532023e-01,\n",
       "         -8.95794258e-02],\n",
       "        [-1.42077863e-01, -5.50507158e-02,  3.59251164e-02,\n",
       "          1.79919943e-01,  1.88767970e-01,  3.67345214e-01,\n",
       "          5.98743781e-02,  6.40615299e-02, -2.93174148e-01,\n",
       "         -1.55990005e-01],\n",
       "        [-2.44553581e-01,  2.33051643e-01, -3.81523579e-01,\n",
       "          2.68931538e-01,  3.80343735e-01, -1.88476443e-01,\n",
       "         -1.53481707e-01,  5.47782741e-02, -1.32151559e-01,\n",
       "          3.44523102e-01],\n",
       "        [-1.67647719e-01,  1.20722361e-01,  1.12028956e-01,\n",
       "          8.78056735e-02, -9.86358300e-02,  2.61816353e-01,\n",
       "         -1.50078207e-01, -1.46316931e-01,  1.70903817e-01,\n",
       "         -1.31268188e-01],\n",
       "        [-2.99026519e-01,  2.76848614e-01,  5.07274717e-02,\n",
       "         -2.76525438e-01,  6.45678863e-02,  2.97450304e-01,\n",
       "         -9.45494324e-02,  2.25718096e-01,  3.13726753e-01,\n",
       "         -3.13905813e-02],\n",
       "        [ 2.66148448e-01,  3.07274163e-01, -2.30874404e-01,\n",
       "         -2.12804317e-01,  2.60970026e-01, -1.91283062e-01,\n",
       "          6.83442205e-02, -5.04286699e-02, -1.23998581e-03,\n",
       "         -7.66426930e-03],\n",
       "        [-3.07088703e-01,  1.11784354e-01,  3.58039588e-01,\n",
       "          3.14740658e-01, -7.34001398e-02, -1.86969742e-01,\n",
       "          2.48884052e-01,  3.28756183e-01, -4.37359363e-01,\n",
       "          6.68986812e-02],\n",
       "        [ 2.99787223e-01,  1.97588891e-01, -1.15356356e-01,\n",
       "          9.53841507e-02,  1.23080961e-01, -3.89571637e-01,\n",
       "         -6.51742890e-02, -5.81493936e-02, -3.21486503e-01,\n",
       "          1.44854754e-01],\n",
       "        [-2.27736115e-01,  1.85031459e-01, -4.80869785e-02,\n",
       "          5.82248122e-02,  3.69208962e-01,  2.19632015e-02,\n",
       "          2.48877108e-01,  2.63347365e-02, -4.45458181e-02,\n",
       "         -8.92380029e-02],\n",
       "        [-4.08687405e-02,  1.68937027e-01,  1.46246240e-01,\n",
       "          2.29737267e-01, -2.81902015e-01,  6.74822330e-02,\n",
       "          2.96979666e-01, -2.02466547e-02, -3.47916484e-01,\n",
       "          3.65747772e-02],\n",
       "        [-2.23462909e-01,  2.41062850e-01, -1.27032623e-01,\n",
       "          3.18064481e-01, -4.90739709e-03, -6.09149858e-02,\n",
       "         -2.92962372e-01,  3.17263812e-01, -4.46379557e-02,\n",
       "         -5.56420572e-02],\n",
       "        [ 1.88181698e-01, -8.49307179e-02,  2.19224587e-01,\n",
       "         -1.91001803e-01, -3.75913940e-02, -1.80377781e-01,\n",
       "         -2.32841581e-01, -2.26358488e-01, -3.58776927e-01,\n",
       "          1.61966503e-01],\n",
       "        [ 6.90869763e-02,  2.19808221e-01, -7.67843658e-03,\n",
       "          3.82650644e-01, -3.78428191e-01,  3.82329375e-01,\n",
       "         -2.68059992e-03, -4.56745654e-01, -7.02668801e-02,\n",
       "         -2.59941310e-01],\n",
       "        [-2.17093095e-01,  2.21309185e-01,  6.35922030e-02,\n",
       "          7.56952539e-02, -1.30228758e-01,  2.23591134e-01,\n",
       "         -5.50446026e-02,  3.68843317e-01, -7.24179372e-02,\n",
       "         -1.73852872e-02],\n",
       "        [ 7.33343735e-02, -2.39815772e-01,  2.40330890e-01,\n",
       "         -3.28519940e-01,  2.57153600e-01, -9.40930750e-03,\n",
       "         -3.40735078e-01,  3.02627832e-01, -3.08930516e-01,\n",
       "          8.71754065e-02],\n",
       "        [-2.97083497e-01,  2.76334137e-02,  2.17302829e-01,\n",
       "          2.76533514e-01,  3.43110003e-02,  3.53523016e-01,\n",
       "         -2.41809160e-01, -3.36084187e-01,  2.75626957e-01,\n",
       "         -4.09063995e-01],\n",
       "        [-2.13054895e-01,  1.92513391e-02,  2.97640804e-02,\n",
       "         -3.03507686e-01, -1.28586024e-01,  1.29563078e-01,\n",
       "          4.01697397e-01, -1.58670619e-01,  3.39250535e-01,\n",
       "          2.04563383e-02],\n",
       "        [-4.49907631e-02,  1.37873530e-01, -2.38816810e-05,\n",
       "          3.13549489e-01,  3.49919461e-02,  3.32024217e-01,\n",
       "          1.70427226e-02,  1.55708026e-02, -9.69808623e-02,\n",
       "          1.42225638e-01],\n",
       "        [-2.74194270e-01, -3.00509393e-01, -2.14357674e-01,\n",
       "          3.27183604e-01,  1.81136444e-01,  2.57512685e-02,\n",
       "         -2.27125436e-01,  3.71851116e-01,  1.11538000e-01,\n",
       "          3.93974692e-01],\n",
       "        [ 2.36412987e-01, -1.29233465e-01, -1.86388880e-01,\n",
       "         -1.81634605e-01, -6.01772629e-02, -3.01893413e-01,\n",
       "         -1.19292580e-01, -8.64057243e-02,  1.47653483e-02,\n",
       "         -1.86919704e-01],\n",
       "        [ 1.25303581e-01, -3.74540776e-01,  2.96399564e-01,\n",
       "          2.83398479e-01, -5.05436122e-01,  4.07206148e-01,\n",
       "         -5.21235287e-01,  2.21914396e-01,  1.25269160e-01,\n",
       "         -1.11798257e-01],\n",
       "        [-3.10990304e-01,  2.89062917e-01,  3.61546397e-01,\n",
       "         -3.17652315e-01, -2.24130586e-01,  1.87719062e-01,\n",
       "          1.16477348e-01, -1.01402767e-01, -2.67325848e-01,\n",
       "         -3.04224193e-01],\n",
       "        [ 1.65933862e-01, -1.11969039e-01, -2.14045584e-01,\n",
       "          2.77587146e-01, -4.37529087e-01,  5.66200651e-02,\n",
       "          1.97356306e-02,  5.81310272e-01, -3.30250621e-01,\n",
       "         -3.26384276e-01],\n",
       "        [ 2.44064227e-01, -2.77375340e-01, -1.48352668e-01,\n",
       "          2.49179095e-01, -1.19622692e-01,  2.97589123e-01,\n",
       "          1.09553393e-02, -2.79559493e-01,  2.60970071e-02,\n",
       "         -1.40358552e-01],\n",
       "        [-1.48429215e-01, -6.20418712e-02, -3.70313406e-01,\n",
       "         -2.87984982e-02,  1.35523543e-01,  4.33313958e-02,\n",
       "          1.56928413e-02, -2.21778117e-02, -1.47016823e-01,\n",
       "          1.24590978e-01],\n",
       "        [-3.22022915e-01, -1.37179434e-01, -2.33632177e-01,\n",
       "         -3.41276646e-01,  2.71389037e-01,  1.99741587e-01,\n",
       "          4.43427891e-01, -1.49562404e-01,  2.18360461e-02,\n",
       "         -1.54594019e-01],\n",
       "        [ 2.81781167e-01,  1.90483034e-01,  1.87175110e-01,\n",
       "          2.58506443e-02, -3.68083924e-01, -1.69558004e-02,\n",
       "         -2.91542292e-01,  3.05238664e-01,  3.47240239e-01,\n",
       "          9.66345742e-02],\n",
       "        [-1.56679139e-01,  9.04241428e-02, -2.01038495e-01,\n",
       "          4.85686734e-02,  1.42455190e-01, -1.43199891e-01,\n",
       "         -2.25117505e-01,  9.16076973e-02, -4.11229096e-02,\n",
       "          1.56328768e-01],\n",
       "        [-2.95444317e-02,  3.74354303e-01, -4.78134215e-01,\n",
       "         -5.68383448e-02,  2.63384819e-01,  1.03668116e-01,\n",
       "         -2.75841951e-01,  1.14080437e-01, -1.22764081e-01,\n",
       "          7.19131529e-02],\n",
       "        [-1.83553413e-01, -1.73394874e-01, -7.13947713e-02,\n",
       "          2.61329174e-01, -2.49755412e-01, -2.62522817e-01,\n",
       "         -2.36831293e-01, -4.04557362e-02, -8.02035555e-02,\n",
       "          2.28655800e-01],\n",
       "        [ 2.77985990e-01, -4.34075385e-01, -3.88001740e-01,\n",
       "         -2.58450836e-01, -2.55646557e-01,  3.91534120e-01,\n",
       "         -1.98018208e-01,  4.42526132e-01,  1.38903320e-01,\n",
       "          1.52484730e-01],\n",
       "        [ 4.29096758e-01, -3.72027367e-01, -2.33789086e-01,\n",
       "         -3.11226934e-01,  1.67563111e-01,  3.37794840e-01,\n",
       "          3.30232799e-01, -3.71777415e-01, -1.98955536e-01,\n",
       "         -3.46927077e-01],\n",
       "        [-2.74826646e-01, -1.54162928e-01,  2.09728703e-01,\n",
       "          1.16140202e-01, -2.85369039e-01,  4.96083684e-02,\n",
       "         -7.03310892e-02,  1.11840874e-01,  2.30782013e-02,\n",
       "         -2.52778053e-01],\n",
       "        [-9.16851908e-02, -1.49538219e-01,  9.04314127e-03,\n",
       "          2.42677659e-01,  3.01220477e-01, -1.95174381e-01,\n",
       "          2.87106961e-01,  2.38938525e-01,  1.39587402e-01,\n",
       "         -3.50796103e-01],\n",
       "        [ 1.54743576e-02,  3.57138306e-01, -8.13703388e-02,\n",
       "         -5.29604182e-02, -1.88766763e-01,  1.06711136e-02,\n",
       "          9.61035714e-02, -1.89403325e-01,  2.85140693e-01,\n",
       "          2.70421118e-01],\n",
       "        [-1.29822433e-01,  1.05301231e-01, -3.03167731e-01,\n",
       "         -1.88666508e-01, -1.19836904e-01, -2.42843762e-01,\n",
       "         -5.95430285e-02,  2.27184266e-01, -7.23404111e-04,\n",
       "          3.09920520e-01],\n",
       "        [-1.70399889e-01,  2.52407014e-01, -2.14960948e-02,\n",
       "          2.73017883e-01, -5.51436692e-02,  3.57014060e-01,\n",
       "         -3.51610303e-01, -1.04255982e-01, -3.37319255e-01,\n",
       "          1.03869028e-01],\n",
       "        [-2.03847557e-01,  4.37033087e-01,  1.57281429e-01,\n",
       "          3.31302285e-01, -2.99102545e-01,  1.39439866e-01,\n",
       "         -1.34562388e-01,  1.30063668e-01, -1.45804416e-02,\n",
       "         -1.64251179e-01],\n",
       "        [-2.46482611e-01,  2.56021798e-01, -3.99502724e-01,\n",
       "          1.78228673e-02,  3.78707856e-01, -1.44531995e-01,\n",
       "          6.47957847e-02, -4.22507733e-01, -4.33736779e-02,\n",
       "          2.65416622e-01]], dtype=float32),\n",
       " array([-0.03988879,  0.04998006, -0.01412623, -0.05910264, -0.02998362,\n",
       "         0.18773794,  0.00120529,  0.13187598, -0.18802503, -0.0396731 ],\n",
       "       dtype=float32)]"
      ]
     },
     "execution_count": 23,
     "metadata": {},
     "output_type": "execute_result"
    }
   ],
   "source": [
    "model.get_weights()"
   ]
  },
  {
   "cell_type": "code",
   "execution_count": null,
   "id": "6e449bf0",
   "metadata": {},
   "outputs": [],
   "source": []
  }
 ],
 "metadata": {
  "kernelspec": {
   "display_name": "Python 3 (ipykernel)",
   "language": "python",
   "name": "python3"
  },
  "language_info": {
   "codemirror_mode": {
    "name": "ipython",
    "version": 3
   },
   "file_extension": ".py",
   "mimetype": "text/x-python",
   "name": "python",
   "nbconvert_exporter": "python",
   "pygments_lexer": "ipython3",
   "version": "3.10.9"
  }
 },
 "nbformat": 4,
 "nbformat_minor": 5
}
