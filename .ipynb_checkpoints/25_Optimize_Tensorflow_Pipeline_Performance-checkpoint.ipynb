{
 "cells": [
  {
   "cell_type": "markdown",
   "id": "768c6f9b",
   "metadata": {},
   "source": [
    "# Optimize Tensorflow Pipeline Performance (Using prefetch & cache)"
   ]
  },
  {
   "cell_type": "code",
   "execution_count": 1,
   "id": "939438d0",
   "metadata": {},
   "outputs": [],
   "source": [
    "import tensorflow as tf\n",
    "import time"
   ]
  },
  {
   "cell_type": "code",
   "execution_count": 2,
   "id": "b1e339b7",
   "metadata": {},
   "outputs": [
    {
     "data": {
      "text/plain": [
       "'2.17.0'"
      ]
     },
     "execution_count": 2,
     "metadata": {},
     "output_type": "execute_result"
    }
   ],
   "source": [
    "tf.__version__"
   ]
  },
  {
   "cell_type": "code",
   "execution_count": 6,
   "id": "399cf6cc",
   "metadata": {},
   "outputs": [],
   "source": [
    "class FileDataset(tf.data.Dataset):\n",
    "    def read_files_in_batches(num_samples):\n",
    "        # Open file\n",
    "        time.sleep(0.03)\n",
    "        \n",
    "        for sample_idx in range(num_samples):\n",
    "            time.sleep(0.015)\n",
    "            yield (sample_idx,)\n",
    "            \n",
    "    def __new__(cls):\n",
    "        print(\"new called\")\n",
    "        pass"
   ]
  },
  {
   "cell_type": "code",
   "execution_count": 7,
   "id": "053e0251",
   "metadata": {},
   "outputs": [
    {
     "name": "stdout",
     "output_type": "stream",
     "text": [
      "new called\n"
     ]
    }
   ],
   "source": [
    "obj = FileDataset()"
   ]
  },
  {
   "cell_type": "code",
   "execution_count": 11,
   "id": "5034b528",
   "metadata": {},
   "outputs": [],
   "source": [
    "class FileDataset(tf.data.Dataset):\n",
    "    def read_files_in_batches(num_samples):\n",
    "        # Open file\n",
    "        time.sleep(0.03)\n",
    "        \n",
    "        for sample_idx in range(num_samples):\n",
    "            time.sleep(0.015)\n",
    "            yield (sample_idx,)\n",
    "            \n",
    "    def __new__(cls, num_samples=3):\n",
    "        return tf.data.Dataset.from_generator(\n",
    "            cls.read_files_in_batches,\n",
    "            output_signature=tf.TensorSpec(shape = (1,), dtype = tf.int64),\n",
    "            args=(num_samples,)\n",
    "        )"
   ]
  },
  {
   "cell_type": "code",
   "execution_count": 12,
   "id": "d9157de4",
   "metadata": {},
   "outputs": [],
   "source": [
    "def benchmark(dataset, num_epochs=2):\n",
    "    for epoch_num in range(num_epochs):\n",
    "        for sample in dataset:\n",
    "            time.sleep(0.01)"
   ]
  },
  {
   "cell_type": "code",
   "execution_count": 13,
   "id": "a5079874",
   "metadata": {},
   "outputs": [
    {
     "name": "stdout",
     "output_type": "stream",
     "text": [
      "375 ms ± 15.2 ms per loop (mean ± std. dev. of 7 runs, 1 loop each)\n"
     ]
    }
   ],
   "source": [
    "%%timeit\n",
    "benchmark(FileDataset())"
   ]
  },
  {
   "cell_type": "markdown",
   "id": "df1a82ad",
   "metadata": {},
   "source": [
    "### Using prefetch()"
   ]
  },
  {
   "cell_type": "code",
   "execution_count": 14,
   "id": "f06a8ed7",
   "metadata": {},
   "outputs": [
    {
     "name": "stdout",
     "output_type": "stream",
     "text": [
      "364 ms ± 17.8 ms per loop (mean ± std. dev. of 7 runs, 1 loop each)\n"
     ]
    }
   ],
   "source": [
    "%%timeit\n",
    "benchmark(FileDataset().prefetch(1))"
   ]
  },
  {
   "cell_type": "code",
   "execution_count": 17,
   "id": "069b401b",
   "metadata": {},
   "outputs": [
    {
     "name": "stdout",
     "output_type": "stream",
     "text": [
      "369 ms ± 17.5 ms per loop (mean ± std. dev. of 7 runs, 1 loop each)\n"
     ]
    }
   ],
   "source": [
    "%%timeit\n",
    "benchmark(FileDataset().prefetch(3))"
   ]
  },
  {
   "cell_type": "code",
   "execution_count": 18,
   "id": "72d8768c",
   "metadata": {},
   "outputs": [
    {
     "name": "stdout",
     "output_type": "stream",
     "text": [
      "375 ms ± 15.2 ms per loop (mean ± std. dev. of 7 runs, 1 loop each)\n"
     ]
    }
   ],
   "source": [
    "%%timeit\n",
    "benchmark(FileDataset().prefetch(tf.data.AUTOTUNE))"
   ]
  },
  {
   "cell_type": "markdown",
   "id": "816f8d1e",
   "metadata": {},
   "source": [
    "### Using cache()"
   ]
  },
  {
   "cell_type": "code",
   "execution_count": 19,
   "id": "d57e7e15",
   "metadata": {},
   "outputs": [
    {
     "name": "stdout",
     "output_type": "stream",
     "text": [
      "0\n",
      "1\n",
      "2\n",
      "3\n",
      "4\n"
     ]
    }
   ],
   "source": [
    "dataset = tf.data.Dataset.range(5)\n",
    "\n",
    "for d in dataset:\n",
    "    print(d.numpy())"
   ]
  },
  {
   "cell_type": "code",
   "execution_count": 20,
   "id": "0bf39693",
   "metadata": {},
   "outputs": [
    {
     "name": "stdout",
     "output_type": "stream",
     "text": [
      "0\n",
      "1\n",
      "4\n",
      "9\n",
      "16\n"
     ]
    }
   ],
   "source": [
    "dataset = dataset.map(lambda x: x**2)\n",
    "for d in dataset:\n",
    "    print(d.numpy())"
   ]
  },
  {
   "cell_type": "code",
   "execution_count": 21,
   "id": "82accc26",
   "metadata": {},
   "outputs": [
    {
     "name": "stdout",
     "output_type": "stream",
     "text": [
      "0\n",
      "1\n",
      "4\n",
      "9\n",
      "16\n"
     ]
    }
   ],
   "source": [
    "dataset = dataset.cache()\n",
    "\n",
    "for d in dataset.as_numpy_iterator():\n",
    "    print(d)"
   ]
  },
  {
   "cell_type": "code",
   "execution_count": 22,
   "id": "f6122ae3",
   "metadata": {},
   "outputs": [
    {
     "data": {
      "text/plain": [
       "[0, 1, 4, 9, 16]"
      ]
     },
     "execution_count": 22,
     "metadata": {},
     "output_type": "execute_result"
    }
   ],
   "source": [
    "list(dataset.as_numpy_iterator())"
   ]
  },
  {
   "cell_type": "code",
   "execution_count": 24,
   "id": "72f6b2e1",
   "metadata": {},
   "outputs": [],
   "source": [
    "def mapped_function(s):\n",
    "    tf.py_function(lambda: time.sleep(0.03), [], ())\n",
    "    return s"
   ]
  },
  {
   "cell_type": "code",
   "execution_count": 28,
   "id": "36a6bee2",
   "metadata": {},
   "outputs": [
    {
     "name": "stdout",
     "output_type": "stream",
     "text": [
      "1.57 s ± 0 ns per loop (mean ± std. dev. of 1 run, 1 loop each)\n"
     ]
    }
   ],
   "source": [
    "%%timeit -n1 -r1\n",
    "\n",
    "benchmark(FileDataset().map(mapped_function), 5)"
   ]
  },
  {
   "cell_type": "code",
   "execution_count": 29,
   "id": "0b903773",
   "metadata": {},
   "outputs": [
    {
     "name": "stdout",
     "output_type": "stream",
     "text": [
      "569 ms ± 0 ns per loop (mean ± std. dev. of 1 run, 1 loop each)\n"
     ]
    }
   ],
   "source": [
    "%%timeit -n1 -r1\n",
    "\n",
    "benchmark(FileDataset().map(mapped_function).cache(), 5)"
   ]
  },
  {
   "cell_type": "code",
   "execution_count": null,
   "id": "67c54f40",
   "metadata": {},
   "outputs": [],
   "source": []
  }
 ],
 "metadata": {
  "kernelspec": {
   "display_name": "Python 3 (ipykernel)",
   "language": "python",
   "name": "python3"
  },
  "language_info": {
   "codemirror_mode": {
    "name": "ipython",
    "version": 3
   },
   "file_extension": ".py",
   "mimetype": "text/x-python",
   "name": "python",
   "nbconvert_exporter": "python",
   "pygments_lexer": "ipython3",
   "version": "3.10.9"
  }
 },
 "nbformat": 4,
 "nbformat_minor": 5
}
