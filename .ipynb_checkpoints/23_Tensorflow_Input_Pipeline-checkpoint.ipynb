{
 "cells": [
  {
   "cell_type": "markdown",
   "id": "c3c80b6e",
   "metadata": {},
   "source": [
    "# Tensorflow Input Pipeline\n",
    "\n",
    "Tensorflow tf.Data api allows you to build a data input pipeline. Using this you can handle large dataset for your deep learning training by streaming training samples from hard disk or S3 storage. tf.data.Dataset is the main class in tf.data api. "
   ]
  },
  {
   "cell_type": "code",
   "execution_count": 1,
   "id": "96095d8f",
   "metadata": {},
   "outputs": [],
   "source": [
    "import tensorflow as tf"
   ]
  },
  {
   "cell_type": "code",
   "execution_count": 2,
   "id": "21752aaf",
   "metadata": {},
   "outputs": [],
   "source": [
    "daily_sales_num = [21, 22, -108, 31, -1, 32, 34, 31]"
   ]
  },
  {
   "cell_type": "code",
   "execution_count": 3,
   "id": "ea95c7a7",
   "metadata": {},
   "outputs": [
    {
     "data": {
      "text/plain": [
       "<_TensorSliceDataset element_spec=TensorSpec(shape=(), dtype=tf.int32, name=None)>"
      ]
     },
     "execution_count": 3,
     "metadata": {},
     "output_type": "execute_result"
    }
   ],
   "source": [
    "tf_dataset = tf.data.Dataset.from_tensor_slices(daily_sales_num)\n",
    "tf_dataset"
   ]
  },
  {
   "cell_type": "code",
   "execution_count": 4,
   "id": "8c5a58e4",
   "metadata": {},
   "outputs": [
    {
     "name": "stdout",
     "output_type": "stream",
     "text": [
      "tf.Tensor(21, shape=(), dtype=int32)\n",
      "tf.Tensor(22, shape=(), dtype=int32)\n",
      "tf.Tensor(-108, shape=(), dtype=int32)\n",
      "tf.Tensor(31, shape=(), dtype=int32)\n",
      "tf.Tensor(-1, shape=(), dtype=int32)\n",
      "tf.Tensor(32, shape=(), dtype=int32)\n",
      "tf.Tensor(34, shape=(), dtype=int32)\n",
      "tf.Tensor(31, shape=(), dtype=int32)\n"
     ]
    }
   ],
   "source": [
    "for sales in tf_dataset:\n",
    "    print(sales)"
   ]
  },
  {
   "cell_type": "code",
   "execution_count": 6,
   "id": "ea7d9940",
   "metadata": {},
   "outputs": [
    {
     "name": "stdout",
     "output_type": "stream",
     "text": [
      "21\n",
      "22\n",
      "-108\n",
      "31\n",
      "-1\n",
      "32\n",
      "34\n",
      "31\n"
     ]
    }
   ],
   "source": [
    "for sales in tf_dataset.as_numpy_iterator():\n",
    "    print(sales)"
   ]
  },
  {
   "cell_type": "code",
   "execution_count": 7,
   "id": "597032ac",
   "metadata": {},
   "outputs": [
    {
     "name": "stdout",
     "output_type": "stream",
     "text": [
      "21\n",
      "22\n",
      "-108\n"
     ]
    }
   ],
   "source": [
    "# To print first 3 elements\n",
    "for sales in tf_dataset.take(3):\n",
    "    print(sales.numpy())"
   ]
  },
  {
   "cell_type": "code",
   "execution_count": 8,
   "id": "198bf072",
   "metadata": {},
   "outputs": [
    {
     "name": "stdout",
     "output_type": "stream",
     "text": [
      "21\n",
      "22\n",
      "31\n",
      "32\n",
      "34\n",
      "31\n"
     ]
    }
   ],
   "source": [
    "# To filter out data so that the element can't be negative\n",
    "tf_dataset = tf_dataset.filter(lambda x: x>0)\n",
    "\n",
    "for sales in tf_dataset.as_numpy_iterator():\n",
    "    print(sales)"
   ]
  },
  {
   "cell_type": "code",
   "execution_count": 9,
   "id": "1a47454d",
   "metadata": {},
   "outputs": [
    {
     "name": "stdout",
     "output_type": "stream",
     "text": [
      "1764\n",
      "1848\n",
      "2604\n",
      "2688\n",
      "2856\n",
      "2604\n"
     ]
    }
   ],
   "source": [
    "# Scaling i.e., converting US doller into Indian rupees\n",
    "tf_dataset = tf_dataset.map(lambda x: x*84)\n",
    "\n",
    "for sales in tf_dataset.as_numpy_iterator():\n",
    "    print(sales)"
   ]
  },
  {
   "cell_type": "code",
   "execution_count": 10,
   "id": "efaaa40e",
   "metadata": {},
   "outputs": [
    {
     "name": "stdout",
     "output_type": "stream",
     "text": [
      "1764\n",
      "1848\n",
      "2688\n",
      "2604\n",
      "2856\n",
      "2604\n"
     ]
    }
   ],
   "source": [
    "# To rearrange the elements randomly\n",
    "tf_dataset = tf_dataset.shuffle(3)\n",
    "\n",
    "for sales in tf_dataset.as_numpy_iterator():\n",
    "    print(sales)"
   ]
  },
  {
   "cell_type": "code",
   "execution_count": 12,
   "id": "c05df7ec",
   "metadata": {},
   "outputs": [
    {
     "name": "stdout",
     "output_type": "stream",
     "text": [
      "[2604 2688 2856 1848]\n",
      "[1764 2604]\n"
     ]
    }
   ],
   "source": [
    "# Batching \n",
    "for sales_batch in tf_dataset.batch(4):\n",
    "    print(sales_batch.numpy())"
   ]
  },
  {
   "cell_type": "code",
   "execution_count": 14,
   "id": "ffaf16f3",
   "metadata": {},
   "outputs": [
    {
     "name": "stdout",
     "output_type": "stream",
     "text": [
      "[1764 2604 2688]\n",
      "[1848 2856 2604]\n"
     ]
    }
   ],
   "source": [
    "tf_dataset = tf.data.Dataset.from_tensor_slices(daily_sales_num)\n",
    "\n",
    "tf_dataset = tf_dataset.filter(lambda x: x>0).map(lambda y: y*84).shuffle(2).batch(3)\n",
    "\n",
    "for sales in tf_dataset.as_numpy_iterator():\n",
    "    print(sales)"
   ]
  },
  {
   "cell_type": "code",
   "execution_count": null,
   "id": "cbee7efa",
   "metadata": {},
   "outputs": [],
   "source": []
  },
  {
   "cell_type": "markdown",
   "id": "3198214c",
   "metadata": {},
   "source": [
    "## Loading Image data"
   ]
  },
  {
   "cell_type": "code",
   "execution_count": 15,
   "id": "aaffee70",
   "metadata": {},
   "outputs": [
    {
     "name": "stdout",
     "output_type": "stream",
     "text": [
      "b'images\\\\cat\\\\20 Reasons Why Cats Make the Best Pets....jpg'\n",
      "b'images\\\\cat\\\\7 Foods Your Cat Can_t Eat.jpg'\n",
      "b'images\\\\cat\\\\A cat appears to have caught the....jpg'\n",
      "b'images\\\\cat\\\\Adopt-A-Cat Month\\xc2\\xae - American Humane....jpg'\n"
     ]
    }
   ],
   "source": [
    "image_ds = tf.data.Dataset.list_files('images/*/*', shuffle=False)\n",
    "\n",
    "for file in image_ds.take(4):\n",
    "    print(file.numpy())"
   ]
  },
  {
   "cell_type": "code",
   "execution_count": 20,
   "id": "369c31d3",
   "metadata": {},
   "outputs": [
    {
     "data": {
      "text/plain": [
       "130"
      ]
     },
     "execution_count": 20,
     "metadata": {},
     "output_type": "execute_result"
    }
   ],
   "source": [
    "image_count = len(image_ds)\n",
    "image_count"
   ]
  },
  {
   "cell_type": "code",
   "execution_count": 21,
   "id": "40cd9fba",
   "metadata": {},
   "outputs": [
    {
     "data": {
      "text/plain": [
       "tensorflow.python.data.ops.shuffle_op._ShuffleDataset"
      ]
     },
     "execution_count": 21,
     "metadata": {},
     "output_type": "execute_result"
    }
   ],
   "source": [
    "type(image_ds)"
   ]
  },
  {
   "cell_type": "code",
   "execution_count": 22,
   "id": "c3768495",
   "metadata": {},
   "outputs": [
    {
     "name": "stdout",
     "output_type": "stream",
     "text": [
      "b'images\\\\dog\\\\The Black Dog Tavern Company _ Life off....jpg'\n",
      "b'images\\\\cat\\\\Want your cat to stay in purrrfect....jpg'\n",
      "b'images\\\\dog\\\\best dog treats_ according to veterinarians.jpg'\n",
      "b'images\\\\cat\\\\Orlando Cat Caf\\xc3\\xa9.png'\n"
     ]
    }
   ],
   "source": [
    "image_ds = image_ds.shuffle(200)\n",
    "\n",
    "for file in image_ds.take(4):\n",
    "    print(file.numpy())"
   ]
  },
  {
   "cell_type": "code",
   "execution_count": 23,
   "id": "0f4dd1f7",
   "metadata": {},
   "outputs": [],
   "source": [
    "class_names = ['cat', 'dog']"
   ]
  },
  {
   "cell_type": "code",
   "execution_count": 24,
   "id": "5366d32d",
   "metadata": {},
   "outputs": [],
   "source": [
    "train_size = int(image_count*0.8)\n",
    "\n",
    "train_ds = image_ds.take(train_size)\n",
    "test_ds = image_ds.skip(train_size)"
   ]
  },
  {
   "cell_type": "code",
   "execution_count": 25,
   "id": "461428e4",
   "metadata": {},
   "outputs": [
    {
     "data": {
      "text/plain": [
       "104"
      ]
     },
     "execution_count": 25,
     "metadata": {},
     "output_type": "execute_result"
    }
   ],
   "source": [
    "len(train_ds)"
   ]
  },
  {
   "cell_type": "code",
   "execution_count": 26,
   "id": "531a3875",
   "metadata": {},
   "outputs": [
    {
     "data": {
      "text/plain": [
       "26"
      ]
     },
     "execution_count": 26,
     "metadata": {},
     "output_type": "execute_result"
    }
   ],
   "source": [
    "len(test_ds)"
   ]
  },
  {
   "cell_type": "code",
   "execution_count": 27,
   "id": "5176d67a",
   "metadata": {},
   "outputs": [
    {
     "data": {
      "text/plain": [
       "['images', 'dog', 'The Black Dog Tavern Company _ Life off....jpg']"
      ]
     },
     "execution_count": 27,
     "metadata": {},
     "output_type": "execute_result"
    }
   ],
   "source": [
    "s = 'images\\\\dog\\\\The Black Dog Tavern Company _ Life off....jpg'\n",
    "\n",
    "s.split(\"\\\\\")"
   ]
  },
  {
   "cell_type": "code",
   "execution_count": 29,
   "id": "8373f09b",
   "metadata": {},
   "outputs": [
    {
     "data": {
      "text/plain": [
       "'dog'"
      ]
     },
     "execution_count": 29,
     "metadata": {},
     "output_type": "execute_result"
    }
   ],
   "source": [
    "# To get label\n",
    "s.split(\"\\\\\")[-2]"
   ]
  },
  {
   "cell_type": "code",
   "execution_count": 32,
   "id": "d1cd2873",
   "metadata": {},
   "outputs": [],
   "source": [
    "def get_label(file_path):\n",
    "    import os\n",
    "    parts = tf.strings.split(file_path, os.path.sep)\n",
    "    return parts[-2]"
   ]
  },
  {
   "cell_type": "code",
   "execution_count": 33,
   "id": "490f88ff",
   "metadata": {},
   "outputs": [
    {
     "name": "stdout",
     "output_type": "stream",
     "text": [
      "b'images\\\\dog\\\\Dogs caught coronavirus from their....jpg'\n",
      "b'images\\\\cat\\\\What to do if your cat is marking....jpg'\n",
      "b'images\\\\dog\\\\Most Expensive Dog Breeds For Pet....png'\n",
      "b'images\\\\dog\\\\Best Dog & Puppy Health Insurance Plans....jpg'\n"
     ]
    }
   ],
   "source": [
    "for t in train_ds.take(4):\n",
    "    print(t.numpy())"
   ]
  },
  {
   "cell_type": "code",
   "execution_count": 36,
   "id": "bada590f",
   "metadata": {},
   "outputs": [
    {
     "name": "stdout",
     "output_type": "stream",
     "text": [
      "tf.Tensor(b'dog', shape=(), dtype=string)\n",
      "tf.Tensor(b'dog', shape=(), dtype=string)\n",
      "tf.Tensor(b'dog', shape=(), dtype=string)\n"
     ]
    }
   ],
   "source": [
    "for label in train_ds.map(get_label).take(3):\n",
    "    print(label)"
   ]
  },
  {
   "cell_type": "code",
   "execution_count": 37,
   "id": "a91fbd64",
   "metadata": {},
   "outputs": [],
   "source": [
    "def process_image(file_path):\n",
    "    label = get_label(file_path)\n",
    "    \n",
    "    img = tf.io.read_file(file_path)\n",
    "    img = tf.image.decode_jpeg(img)\n",
    "    img = tf.image.resize(img, [128, 128])\n",
    "    \n",
    "    return img, label"
   ]
  },
  {
   "cell_type": "code",
   "execution_count": 40,
   "id": "d80dbc36",
   "metadata": {},
   "outputs": [
    {
     "name": "stdout",
     "output_type": "stream",
     "text": [
      "Image:  tf.Tensor(\n",
      "[[[254.      254.      254.     ]\n",
      "  [254.      254.      254.     ]\n",
      "  [254.      254.      254.     ]\n",
      "  ...\n",
      "  [254.      254.      254.     ]\n",
      "  [254.      254.      254.     ]\n",
      "  [254.      254.      254.     ]]\n",
      "\n",
      " [[254.      254.      254.     ]\n",
      "  [254.      254.      254.     ]\n",
      "  [254.      254.      254.     ]\n",
      "  ...\n",
      "  [254.      254.      254.     ]\n",
      "  [254.      254.      254.     ]\n",
      "  [254.      254.      254.     ]]\n",
      "\n",
      " [[254.      254.      254.     ]\n",
      "  [254.      254.      254.     ]\n",
      "  [254.      254.      254.     ]\n",
      "  ...\n",
      "  [254.      254.      254.     ]\n",
      "  [254.      254.      254.     ]\n",
      "  [254.      254.      254.     ]]\n",
      "\n",
      " ...\n",
      "\n",
      " [[254.      254.      254.     ]\n",
      "  [254.      254.      254.     ]\n",
      "  [254.      254.      254.     ]\n",
      "  ...\n",
      "  [252.      252.      252.     ]\n",
      "  [252.92188 252.92188 252.92188]\n",
      "  [252.74902 252.74902 252.74902]]\n",
      "\n",
      " [[254.      254.      254.     ]\n",
      "  [254.      254.      254.     ]\n",
      "  [254.      254.      254.     ]\n",
      "  ...\n",
      "  [254.      254.      254.     ]\n",
      "  [254.      254.      254.     ]\n",
      "  [254.      254.      254.     ]]\n",
      "\n",
      " [[254.      254.      254.     ]\n",
      "  [254.      254.      254.     ]\n",
      "  [254.      254.      254.     ]\n",
      "  ...\n",
      "  [254.      254.      254.     ]\n",
      "  [254.      254.      254.     ]\n",
      "  [254.      254.      254.     ]]], shape=(128, 128, 3), dtype=float32)\n",
      "Label:  tf.Tensor(b'dog', shape=(), dtype=string)\n",
      "Image:  tf.Tensor(\n",
      "[[[ 38.706787    15.706787     0.3942871 ]\n",
      "  [ 44.          18.           1.        ]\n",
      "  [  3.3347168    0.           1.0222168 ]\n",
      "  ...\n",
      "  [216.82422    221.82422    216.99365   ]\n",
      "  [202.02979    201.78442    194.42822   ]\n",
      "  [203.35449    205.86206    194.86206   ]]\n",
      "\n",
      " [[ 33.417236    19.882812     0.49072266]\n",
      "  [ 45.263916    18.263916     0.        ]\n",
      "  [  6.9768066    0.8833008    0.78515625]\n",
      "  ...\n",
      "  [218.14062    225.37817    211.26514   ]\n",
      "  [214.07861    216.89722    211.5166    ]\n",
      "  [210.15918    216.29346    202.22632   ]]\n",
      "\n",
      " [[ 39.628906    17.9375       0.        ]\n",
      "  [ 47.382812    20.382812     0.        ]\n",
      "  [  9.402832     0.           0.        ]\n",
      "  ...\n",
      "  [217.46606    222.94531    213.1189    ]\n",
      "  [198.44531    198.13672    190.97607   ]\n",
      "  [212.30469    219.89185    206.35571   ]]\n",
      "\n",
      " ...\n",
      "\n",
      " [[ 18.274658     6.850342     1.1628418 ]\n",
      "  [ 24.           6.3828125    0.        ]\n",
      "  [ 22.179688     4.1796875    0.48217773]\n",
      "  ...\n",
      "  [149.68042    150.68042    153.2976    ]\n",
      "  [141.67236    144.49585    153.78516   ]\n",
      "  [122.225586   132.22559    133.53809   ]]\n",
      "\n",
      " [[ 19.557861     7.9328613    1.9328613 ]\n",
      "  [ 22.           7.           0.        ]\n",
      "  [ 17.082031     0.3088379    0.        ]\n",
      "  ...\n",
      "  [144.28906    149.4021     151.7539    ]\n",
      "  [141.6145     145.3103     148.87842   ]\n",
      "  [128.61719    136.97266    134.1875    ]]\n",
      "\n",
      " [[ 18.214844     4.3637695    1.0151367 ]\n",
      "  [ 16.585938     6.3242188    0.27807617]\n",
      "  [ 15.799561     1.7995605    0.        ]\n",
      "  ...\n",
      "  [140.58545    145.17017    148.49316   ]\n",
      "  [137.47827    139.07983    151.77197   ]\n",
      "  [116.30469    119.19531    133.51953   ]]], shape=(128, 128, 3), dtype=float32)\n",
      "Label:  tf.Tensor(b'cat', shape=(), dtype=string)\n",
      "Image:  tf.Tensor(\n",
      "[[[104.       105.       100.      ]\n",
      "  [105.       106.       101.      ]\n",
      "  [108.       107.       103.      ]\n",
      "  ...\n",
      "  [239.       240.       235.      ]\n",
      "  [239.       240.       235.      ]\n",
      "  [239.       240.       235.      ]]\n",
      "\n",
      " [[104.043945 105.043945 100.043945]\n",
      "  [105.706055 106.706055 101.706055]\n",
      "  [106.       107.       102.      ]\n",
      "  ...\n",
      "  [239.       240.       235.      ]\n",
      "  [239.       240.       235.      ]\n",
      "  [239.       240.       235.      ]]\n",
      "\n",
      " [[104.       104.       102.      ]\n",
      "  [105.       106.       101.      ]\n",
      "  [107.       106.       102.      ]\n",
      "  ...\n",
      "  [239.       240.       235.      ]\n",
      "  [239.       240.       235.      ]\n",
      "  [239.       240.       235.      ]]\n",
      "\n",
      " ...\n",
      "\n",
      " [[ 75.70703   62.70703   53.70703 ]\n",
      "  [ 87.05469   73.05469   62.054688]\n",
      "  [ 70.57324   56.6709    47.6709  ]\n",
      "  ...\n",
      "  [127.07324  125.07324  126.07324 ]\n",
      "  [128.12207  127.12207  124.92676 ]\n",
      "  [127.09766  126.09766  124.09766 ]]\n",
      "\n",
      " [[ 90.67676   76.67676   67.67676 ]\n",
      "  [ 87.36719   73.36719   64.25    ]\n",
      "  [ 64.67578   50.67578   39.67578 ]\n",
      "  ...\n",
      "  [125.05859  123.05859  124.05859 ]\n",
      "  [127.05859  125.05859  126.05859 ]\n",
      "  [123.01465  123.01465  121.01465 ]]\n",
      "\n",
      " [[103.225586  89.225586  80.225586]\n",
      "  [ 85.24512   70.74512   63.495117]\n",
      "  [ 44.039062  35.039062  28.039062]\n",
      "  ...\n",
      "  [125.75     123.75     124.75    ]\n",
      "  [124.       122.       123.      ]\n",
      "  [121.       122.       117.      ]]], shape=(128, 128, 3), dtype=float32)\n",
      "Label:  tf.Tensor(b'dog', shape=(), dtype=string)\n"
     ]
    }
   ],
   "source": [
    "train_ds = train_ds.map(process_image)\n",
    "for img, label in train_ds.take(3):\n",
    "    print(\"Image: \", img)\n",
    "    print(\"Label: \", label)"
   ]
  },
  {
   "cell_type": "code",
   "execution_count": 41,
   "id": "35a5dd5f",
   "metadata": {},
   "outputs": [],
   "source": [
    "def scale(image, label):\n",
    "    return image/255, label"
   ]
  },
  {
   "cell_type": "code",
   "execution_count": 43,
   "id": "03441f41",
   "metadata": {},
   "outputs": [
    {
     "name": "stdout",
     "output_type": "stream",
     "text": [
      "***Image:  [0.8784314 0.8156863 0.7647059]\n",
      "***Label:  b'dog'\n",
      "***Image:  [0.7734375  0.74206495 0.7342218 ]\n",
      "***Label:  b'cat'\n",
      "***Image:  [0.3125766  0.34394914 0.35571384]\n",
      "***Label:  b'dog'\n",
      "***Image:  [0.6161133  0.74938536 0.84681183]\n",
      "***Label:  b'dog'\n",
      "***Image:  [0.09411765 0.07450981 0.05882353]\n",
      "***Label:  b'dog'\n"
     ]
    }
   ],
   "source": [
    "train_ds = train_ds.map(scale)\n",
    "\n",
    "for img, label in train_ds.take(5):\n",
    "    print(\"***Image: \", img.numpy()[0][0])\n",
    "    print(\"***Label: \", label.numpy())"
   ]
  },
  {
   "cell_type": "code",
   "execution_count": null,
   "id": "99bd14ff",
   "metadata": {},
   "outputs": [],
   "source": []
  }
 ],
 "metadata": {
  "kernelspec": {
   "display_name": "Python 3 (ipykernel)",
   "language": "python",
   "name": "python3"
  },
  "language_info": {
   "codemirror_mode": {
    "name": "ipython",
    "version": 3
   },
   "file_extension": ".py",
   "mimetype": "text/x-python",
   "name": "python",
   "nbconvert_exporter": "python",
   "pygments_lexer": "ipython3",
   "version": "3.10.9"
  }
 },
 "nbformat": 4,
 "nbformat_minor": 5
}
