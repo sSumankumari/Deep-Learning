{
 "cells": [
  {
   "cell_type": "markdown",
   "id": "5560f001",
   "metadata": {},
   "source": [
    "# BERT (Bidirectional Encoder Representations from Transformers)"
   ]
  },
  {
   "cell_type": "code",
   "execution_count": 1,
   "id": "db63e79b",
   "metadata": {},
   "outputs": [
    {
     "name": "stdout",
     "output_type": "stream",
     "text": [
      "Requirement already satisfied: tensorflow in c:\\users\\suman\\anaconda3\\lib\\site-packages (2.10.1)\n",
      "Requirement already satisfied: absl-py>=1.0.0 in c:\\users\\suman\\anaconda3\\lib\\site-packages (from tensorflow) (1.4.0)\n",
      "Requirement already satisfied: astunparse>=1.6.0 in c:\\users\\suman\\anaconda3\\lib\\site-packages (from tensorflow) (1.6.3)\n",
      "Requirement already satisfied: flatbuffers>=2.0 in c:\\users\\suman\\anaconda3\\lib\\site-packages (from tensorflow) (24.3.25)\n",
      "Requirement already satisfied: gast<=0.4.0,>=0.2.1 in c:\\users\\suman\\anaconda3\\lib\\site-packages (from tensorflow) (0.4.0)\n",
      "Requirement already satisfied: google-pasta>=0.1.1 in c:\\users\\suman\\anaconda3\\lib\\site-packages (from tensorflow) (0.2.0)\n",
      "Requirement already satisfied: h5py>=2.9.0 in c:\\users\\suman\\anaconda3\\lib\\site-packages (from tensorflow) (3.11.0)\n",
      "Requirement already satisfied: keras-preprocessing>=1.1.1 in c:\\users\\suman\\anaconda3\\lib\\site-packages (from tensorflow) (1.1.2)\n",
      "Requirement already satisfied: libclang>=13.0.0 in c:\\users\\suman\\anaconda3\\lib\\site-packages (from tensorflow) (16.0.6)\n",
      "Requirement already satisfied: numpy>=1.20 in c:\\users\\suman\\anaconda3\\lib\\site-packages (from tensorflow) (1.23.5)\n",
      "Requirement already satisfied: opt-einsum>=2.3.2 in c:\\users\\suman\\anaconda3\\lib\\site-packages (from tensorflow) (3.3.0)\n",
      "Requirement already satisfied: packaging in c:\\users\\suman\\anaconda3\\lib\\site-packages (from tensorflow) (24.1)\n",
      "Requirement already satisfied: protobuf<3.20,>=3.9.2 in c:\\users\\suman\\anaconda3\\lib\\site-packages (from tensorflow) (3.19.6)\n",
      "Requirement already satisfied: setuptools in c:\\users\\suman\\anaconda3\\lib\\site-packages (from tensorflow) (71.1.0)\n",
      "Requirement already satisfied: six>=1.12.0 in c:\\users\\suman\\anaconda3\\lib\\site-packages (from tensorflow) (1.16.0)\n",
      "Requirement already satisfied: termcolor>=1.1.0 in c:\\users\\suman\\anaconda3\\lib\\site-packages (from tensorflow) (2.3.0)\n",
      "Requirement already satisfied: typing-extensions>=3.6.6 in c:\\users\\suman\\anaconda3\\lib\\site-packages (from tensorflow) (4.12.2)\n",
      "Requirement already satisfied: wrapt>=1.11.0 in c:\\users\\suman\\anaconda3\\lib\\site-packages (from tensorflow) (1.14.1)\n",
      "Requirement already satisfied: tensorflow-io-gcs-filesystem>=0.23.1 in c:\\users\\suman\\anaconda3\\lib\\site-packages (from tensorflow) (0.31.0)\n",
      "Requirement already satisfied: grpcio<2.0,>=1.24.3 in c:\\users\\suman\\anaconda3\\lib\\site-packages (from tensorflow) (1.65.4)\n",
      "Requirement already satisfied: tensorboard<2.11,>=2.10 in c:\\users\\suman\\anaconda3\\lib\\site-packages (from tensorflow) (2.10.1)\n",
      "Requirement already satisfied: tensorflow-estimator<2.11,>=2.10.0 in c:\\users\\suman\\anaconda3\\lib\\site-packages (from tensorflow) (2.10.0)\n",
      "Requirement already satisfied: keras<2.11,>=2.10.0 in c:\\users\\suman\\anaconda3\\lib\\site-packages (from tensorflow) (2.10.0)\n",
      "Requirement already satisfied: wheel<1.0,>=0.23.0 in c:\\users\\suman\\anaconda3\\lib\\site-packages (from astunparse>=1.6.0->tensorflow) (0.43.0)\n",
      "Requirement already satisfied: google-auth<3,>=1.6.3 in c:\\users\\suman\\anaconda3\\lib\\site-packages (from tensorboard<2.11,>=2.10->tensorflow) (2.22.0)\n",
      "Requirement already satisfied: google-auth-oauthlib<0.5,>=0.4.1 in c:\\users\\suman\\anaconda3\\lib\\site-packages (from tensorboard<2.11,>=2.10->tensorflow) (0.4.6)\n",
      "Requirement already satisfied: markdown>=2.6.8 in c:\\users\\suman\\anaconda3\\lib\\site-packages (from tensorboard<2.11,>=2.10->tensorflow) (3.4.1)\n",
      "Requirement already satisfied: requests<3,>=2.21.0 in c:\\users\\suman\\anaconda3\\lib\\site-packages (from tensorboard<2.11,>=2.10->tensorflow) (2.28.1)\n",
      "Requirement already satisfied: tensorboard-data-server<0.7.0,>=0.6.0 in c:\\users\\suman\\anaconda3\\lib\\site-packages (from tensorboard<2.11,>=2.10->tensorflow) (0.6.1)\n",
      "Requirement already satisfied: tensorboard-plugin-wit>=1.6.0 in c:\\users\\suman\\anaconda3\\lib\\site-packages (from tensorboard<2.11,>=2.10->tensorflow) (1.8.1)\n",
      "Requirement already satisfied: werkzeug>=1.0.1 in c:\\users\\suman\\anaconda3\\lib\\site-packages (from tensorboard<2.11,>=2.10->tensorflow) (2.2.2)\n",
      "Requirement already satisfied: cachetools<6.0,>=2.0.0 in c:\\users\\suman\\anaconda3\\lib\\site-packages (from google-auth<3,>=1.6.3->tensorboard<2.11,>=2.10->tensorflow) (5.3.1)\n",
      "Requirement already satisfied: pyasn1-modules>=0.2.1 in c:\\users\\suman\\anaconda3\\lib\\site-packages (from google-auth<3,>=1.6.3->tensorboard<2.11,>=2.10->tensorflow) (0.2.8)\n",
      "Requirement already satisfied: rsa<5,>=3.1.4 in c:\\users\\suman\\anaconda3\\lib\\site-packages (from google-auth<3,>=1.6.3->tensorboard<2.11,>=2.10->tensorflow) (4.9)\n",
      "Requirement already satisfied: urllib3<2.0 in c:\\users\\suman\\anaconda3\\lib\\site-packages (from google-auth<3,>=1.6.3->tensorboard<2.11,>=2.10->tensorflow) (1.26.14)\n",
      "Requirement already satisfied: requests-oauthlib>=0.7.0 in c:\\users\\suman\\anaconda3\\lib\\site-packages (from google-auth-oauthlib<0.5,>=0.4.1->tensorboard<2.11,>=2.10->tensorflow) (1.3.1)\n",
      "Requirement already satisfied: charset-normalizer<3,>=2 in c:\\users\\suman\\anaconda3\\lib\\site-packages (from requests<3,>=2.21.0->tensorboard<2.11,>=2.10->tensorflow) (2.0.4)\n",
      "Requirement already satisfied: idna<4,>=2.5 in c:\\users\\suman\\anaconda3\\lib\\site-packages (from requests<3,>=2.21.0->tensorboard<2.11,>=2.10->tensorflow) (2.10)\n",
      "Requirement already satisfied: certifi>=2017.4.17 in c:\\users\\suman\\anaconda3\\lib\\site-packages (from requests<3,>=2.21.0->tensorboard<2.11,>=2.10->tensorflow) (2022.12.7)\n",
      "Requirement already satisfied: MarkupSafe>=2.1.1 in c:\\users\\suman\\anaconda3\\lib\\site-packages (from werkzeug>=1.0.1->tensorboard<2.11,>=2.10->tensorflow) (2.1.1)\n",
      "Requirement already satisfied: pyasn1<0.5.0,>=0.4.6 in c:\\users\\suman\\anaconda3\\lib\\site-packages (from pyasn1-modules>=0.2.1->google-auth<3,>=1.6.3->tensorboard<2.11,>=2.10->tensorflow) (0.4.8)\n",
      "Requirement already satisfied: oauthlib>=3.0.0 in c:\\users\\suman\\anaconda3\\lib\\site-packages (from requests-oauthlib>=0.7.0->google-auth-oauthlib<0.5,>=0.4.1->tensorboard<2.11,>=2.10->tensorflow) (3.2.2)\n"
     ]
    }
   ],
   "source": [
    "!pip install tensorflow"
   ]
  },
  {
   "cell_type": "code",
   "execution_count": 2,
   "id": "e81d9769",
   "metadata": {},
   "outputs": [
    {
     "name": "stdout",
     "output_type": "stream",
     "text": [
      "Requirement already satisfied: tensorflow-hub in c:\\users\\suman\\anaconda3\\lib\\site-packages (0.16.1)\n",
      "Requirement already satisfied: numpy>=1.12.0 in c:\\users\\suman\\anaconda3\\lib\\site-packages (from tensorflow-hub) (1.23.5)\n",
      "Requirement already satisfied: protobuf>=3.19.6 in c:\\users\\suman\\anaconda3\\lib\\site-packages (from tensorflow-hub) (3.19.6)\n",
      "Requirement already satisfied: tf-keras>=2.14.1 in c:\\users\\suman\\anaconda3\\lib\\site-packages (from tensorflow-hub) (2.15.0)\n"
     ]
    }
   ],
   "source": [
    "!pip install tensorflow-hub"
   ]
  },
  {
   "cell_type": "code",
   "execution_count": 3,
   "id": "79b292a3",
   "metadata": {},
   "outputs": [
    {
     "name": "stdout",
     "output_type": "stream",
     "text": [
      "Requirement already satisfied: tensorflow-text in c:\\users\\suman\\anaconda3\\lib\\site-packages (2.10.0)\n",
      "Requirement already satisfied: tensorflow-hub>=0.8.0 in c:\\users\\suman\\anaconda3\\lib\\site-packages (from tensorflow-text) (0.16.1)\n",
      "Requirement already satisfied: tensorflow<2.11,>=2.10.0 in c:\\users\\suman\\anaconda3\\lib\\site-packages (from tensorflow-text) (2.10.1)\n",
      "Requirement already satisfied: absl-py>=1.0.0 in c:\\users\\suman\\anaconda3\\lib\\site-packages (from tensorflow<2.11,>=2.10.0->tensorflow-text) (1.4.0)\n",
      "Requirement already satisfied: astunparse>=1.6.0 in c:\\users\\suman\\anaconda3\\lib\\site-packages (from tensorflow<2.11,>=2.10.0->tensorflow-text) (1.6.3)\n",
      "Requirement already satisfied: flatbuffers>=2.0 in c:\\users\\suman\\anaconda3\\lib\\site-packages (from tensorflow<2.11,>=2.10.0->tensorflow-text) (24.3.25)\n",
      "Requirement already satisfied: gast<=0.4.0,>=0.2.1 in c:\\users\\suman\\anaconda3\\lib\\site-packages (from tensorflow<2.11,>=2.10.0->tensorflow-text) (0.4.0)\n",
      "Requirement already satisfied: google-pasta>=0.1.1 in c:\\users\\suman\\anaconda3\\lib\\site-packages (from tensorflow<2.11,>=2.10.0->tensorflow-text) (0.2.0)\n",
      "Requirement already satisfied: h5py>=2.9.0 in c:\\users\\suman\\anaconda3\\lib\\site-packages (from tensorflow<2.11,>=2.10.0->tensorflow-text) (3.11.0)\n",
      "Requirement already satisfied: keras-preprocessing>=1.1.1 in c:\\users\\suman\\anaconda3\\lib\\site-packages (from tensorflow<2.11,>=2.10.0->tensorflow-text) (1.1.2)\n",
      "Requirement already satisfied: libclang>=13.0.0 in c:\\users\\suman\\anaconda3\\lib\\site-packages (from tensorflow<2.11,>=2.10.0->tensorflow-text) (16.0.6)\n",
      "Requirement already satisfied: numpy>=1.20 in c:\\users\\suman\\anaconda3\\lib\\site-packages (from tensorflow<2.11,>=2.10.0->tensorflow-text) (1.23.5)\n",
      "Requirement already satisfied: opt-einsum>=2.3.2 in c:\\users\\suman\\anaconda3\\lib\\site-packages (from tensorflow<2.11,>=2.10.0->tensorflow-text) (3.3.0)\n",
      "Requirement already satisfied: packaging in c:\\users\\suman\\anaconda3\\lib\\site-packages (from tensorflow<2.11,>=2.10.0->tensorflow-text) (24.1)\n",
      "Requirement already satisfied: protobuf<3.20,>=3.9.2 in c:\\users\\suman\\anaconda3\\lib\\site-packages (from tensorflow<2.11,>=2.10.0->tensorflow-text) (3.19.6)\n",
      "Requirement already satisfied: setuptools in c:\\users\\suman\\anaconda3\\lib\\site-packages (from tensorflow<2.11,>=2.10.0->tensorflow-text) (71.1.0)\n",
      "Requirement already satisfied: six>=1.12.0 in c:\\users\\suman\\anaconda3\\lib\\site-packages (from tensorflow<2.11,>=2.10.0->tensorflow-text) (1.16.0)\n",
      "Requirement already satisfied: termcolor>=1.1.0 in c:\\users\\suman\\anaconda3\\lib\\site-packages (from tensorflow<2.11,>=2.10.0->tensorflow-text) (2.3.0)\n",
      "Requirement already satisfied: typing-extensions>=3.6.6 in c:\\users\\suman\\anaconda3\\lib\\site-packages (from tensorflow<2.11,>=2.10.0->tensorflow-text) (4.12.2)\n",
      "Requirement already satisfied: wrapt>=1.11.0 in c:\\users\\suman\\anaconda3\\lib\\site-packages (from tensorflow<2.11,>=2.10.0->tensorflow-text) (1.14.1)\n",
      "Requirement already satisfied: tensorflow-io-gcs-filesystem>=0.23.1 in c:\\users\\suman\\anaconda3\\lib\\site-packages (from tensorflow<2.11,>=2.10.0->tensorflow-text) (0.31.0)\n",
      "Requirement already satisfied: grpcio<2.0,>=1.24.3 in c:\\users\\suman\\anaconda3\\lib\\site-packages (from tensorflow<2.11,>=2.10.0->tensorflow-text) (1.65.4)\n",
      "Requirement already satisfied: tensorboard<2.11,>=2.10 in c:\\users\\suman\\anaconda3\\lib\\site-packages (from tensorflow<2.11,>=2.10.0->tensorflow-text) (2.10.1)\n",
      "Requirement already satisfied: tensorflow-estimator<2.11,>=2.10.0 in c:\\users\\suman\\anaconda3\\lib\\site-packages (from tensorflow<2.11,>=2.10.0->tensorflow-text) (2.10.0)\n",
      "Requirement already satisfied: keras<2.11,>=2.10.0 in c:\\users\\suman\\anaconda3\\lib\\site-packages (from tensorflow<2.11,>=2.10.0->tensorflow-text) (2.10.0)\n",
      "Requirement already satisfied: tf-keras>=2.14.1 in c:\\users\\suman\\anaconda3\\lib\\site-packages (from tensorflow-hub>=0.8.0->tensorflow-text) (2.15.0)\n",
      "Requirement already satisfied: wheel<1.0,>=0.23.0 in c:\\users\\suman\\anaconda3\\lib\\site-packages (from astunparse>=1.6.0->tensorflow<2.11,>=2.10.0->tensorflow-text) (0.43.0)\n",
      "Requirement already satisfied: google-auth<3,>=1.6.3 in c:\\users\\suman\\anaconda3\\lib\\site-packages (from tensorboard<2.11,>=2.10->tensorflow<2.11,>=2.10.0->tensorflow-text) (2.22.0)\n",
      "Requirement already satisfied: google-auth-oauthlib<0.5,>=0.4.1 in c:\\users\\suman\\anaconda3\\lib\\site-packages (from tensorboard<2.11,>=2.10->tensorflow<2.11,>=2.10.0->tensorflow-text) (0.4.6)\n",
      "Requirement already satisfied: markdown>=2.6.8 in c:\\users\\suman\\anaconda3\\lib\\site-packages (from tensorboard<2.11,>=2.10->tensorflow<2.11,>=2.10.0->tensorflow-text) (3.4.1)\n",
      "Requirement already satisfied: requests<3,>=2.21.0 in c:\\users\\suman\\anaconda3\\lib\\site-packages (from tensorboard<2.11,>=2.10->tensorflow<2.11,>=2.10.0->tensorflow-text) (2.28.1)\n",
      "Requirement already satisfied: tensorboard-data-server<0.7.0,>=0.6.0 in c:\\users\\suman\\anaconda3\\lib\\site-packages (from tensorboard<2.11,>=2.10->tensorflow<2.11,>=2.10.0->tensorflow-text) (0.6.1)\n",
      "Requirement already satisfied: tensorboard-plugin-wit>=1.6.0 in c:\\users\\suman\\anaconda3\\lib\\site-packages (from tensorboard<2.11,>=2.10->tensorflow<2.11,>=2.10.0->tensorflow-text) (1.8.1)\n",
      "Requirement already satisfied: werkzeug>=1.0.1 in c:\\users\\suman\\anaconda3\\lib\\site-packages (from tensorboard<2.11,>=2.10->tensorflow<2.11,>=2.10.0->tensorflow-text) (2.2.2)\n",
      "Requirement already satisfied: cachetools<6.0,>=2.0.0 in c:\\users\\suman\\anaconda3\\lib\\site-packages (from google-auth<3,>=1.6.3->tensorboard<2.11,>=2.10->tensorflow<2.11,>=2.10.0->tensorflow-text) (5.3.1)\n",
      "Requirement already satisfied: pyasn1-modules>=0.2.1 in c:\\users\\suman\\anaconda3\\lib\\site-packages (from google-auth<3,>=1.6.3->tensorboard<2.11,>=2.10->tensorflow<2.11,>=2.10.0->tensorflow-text) (0.2.8)\n",
      "Requirement already satisfied: rsa<5,>=3.1.4 in c:\\users\\suman\\anaconda3\\lib\\site-packages (from google-auth<3,>=1.6.3->tensorboard<2.11,>=2.10->tensorflow<2.11,>=2.10.0->tensorflow-text) (4.9)\n",
      "Requirement already satisfied: urllib3<2.0 in c:\\users\\suman\\anaconda3\\lib\\site-packages (from google-auth<3,>=1.6.3->tensorboard<2.11,>=2.10->tensorflow<2.11,>=2.10.0->tensorflow-text) (1.26.14)\n",
      "Requirement already satisfied: requests-oauthlib>=0.7.0 in c:\\users\\suman\\anaconda3\\lib\\site-packages (from google-auth-oauthlib<0.5,>=0.4.1->tensorboard<2.11,>=2.10->tensorflow<2.11,>=2.10.0->tensorflow-text) (1.3.1)\n",
      "Requirement already satisfied: charset-normalizer<3,>=2 in c:\\users\\suman\\anaconda3\\lib\\site-packages (from requests<3,>=2.21.0->tensorboard<2.11,>=2.10->tensorflow<2.11,>=2.10.0->tensorflow-text) (2.0.4)\n",
      "Requirement already satisfied: idna<4,>=2.5 in c:\\users\\suman\\anaconda3\\lib\\site-packages (from requests<3,>=2.21.0->tensorboard<2.11,>=2.10->tensorflow<2.11,>=2.10.0->tensorflow-text) (2.10)\n",
      "Requirement already satisfied: certifi>=2017.4.17 in c:\\users\\suman\\anaconda3\\lib\\site-packages (from requests<3,>=2.21.0->tensorboard<2.11,>=2.10->tensorflow<2.11,>=2.10.0->tensorflow-text) (2022.12.7)\n",
      "Requirement already satisfied: MarkupSafe>=2.1.1 in c:\\users\\suman\\anaconda3\\lib\\site-packages (from werkzeug>=1.0.1->tensorboard<2.11,>=2.10->tensorflow<2.11,>=2.10.0->tensorflow-text) (2.1.1)\n",
      "Requirement already satisfied: pyasn1<0.5.0,>=0.4.6 in c:\\users\\suman\\anaconda3\\lib\\site-packages (from pyasn1-modules>=0.2.1->google-auth<3,>=1.6.3->tensorboard<2.11,>=2.10->tensorflow<2.11,>=2.10.0->tensorflow-text) (0.4.8)\n",
      "Requirement already satisfied: oauthlib>=3.0.0 in c:\\users\\suman\\anaconda3\\lib\\site-packages (from requests-oauthlib>=0.7.0->google-auth-oauthlib<0.5,>=0.4.1->tensorboard<2.11,>=2.10->tensorflow<2.11,>=2.10.0->tensorflow-text) (3.2.2)\n"
     ]
    }
   ],
   "source": [
    "!pip install tensorflow-text"
   ]
  },
  {
   "cell_type": "code",
   "execution_count": 4,
   "id": "6f6476eb",
   "metadata": {},
   "outputs": [],
   "source": [
    "import tensorflow_hub as hub\n",
    "import tensorflow_text as text"
   ]
  },
  {
   "cell_type": "code",
   "execution_count": 5,
   "id": "b7e69f1e",
   "metadata": {},
   "outputs": [],
   "source": [
    "preprocess_url = \"https://tfhub.dev/tensorflow/bert_en_uncased_preprocess/3\"\n",
    "encoder_url = \"https://tfhub.dev/tensorflow/bert_en_uncased_L-12_H-768_A-12/4\""
   ]
  },
  {
   "cell_type": "code",
   "execution_count": 6,
   "id": "7d1343aa",
   "metadata": {},
   "outputs": [],
   "source": [
    "bert_preprocess_model = hub.KerasLayer(preprocess_url)"
   ]
  },
  {
   "cell_type": "code",
   "execution_count": 7,
   "id": "a7b3784c",
   "metadata": {},
   "outputs": [
    {
     "data": {
      "text/plain": [
       "dict_keys(['input_mask', 'input_word_ids', 'input_type_ids'])"
      ]
     },
     "execution_count": 7,
     "metadata": {},
     "output_type": "execute_result"
    }
   ],
   "source": [
    "text_test = ['nice movie indeed','I love python programming']\n",
    "\n",
    "text_preprocessed = bert_preprocess_model(text_test)\n",
    "text_preprocessed.keys()"
   ]
  },
  {
   "cell_type": "code",
   "execution_count": 8,
   "id": "93dcb0d9",
   "metadata": {},
   "outputs": [
    {
     "data": {
      "text/plain": [
       "<tf.Tensor: shape=(2, 128), dtype=int32, numpy=\n",
       "array([[1, 1, 1, 1, 1, 0, 0, 0, 0, 0, 0, 0, 0, 0, 0, 0, 0, 0, 0, 0, 0, 0,\n",
       "        0, 0, 0, 0, 0, 0, 0, 0, 0, 0, 0, 0, 0, 0, 0, 0, 0, 0, 0, 0, 0, 0,\n",
       "        0, 0, 0, 0, 0, 0, 0, 0, 0, 0, 0, 0, 0, 0, 0, 0, 0, 0, 0, 0, 0, 0,\n",
       "        0, 0, 0, 0, 0, 0, 0, 0, 0, 0, 0, 0, 0, 0, 0, 0, 0, 0, 0, 0, 0, 0,\n",
       "        0, 0, 0, 0, 0, 0, 0, 0, 0, 0, 0, 0, 0, 0, 0, 0, 0, 0, 0, 0, 0, 0,\n",
       "        0, 0, 0, 0, 0, 0, 0, 0, 0, 0, 0, 0, 0, 0, 0, 0, 0, 0],\n",
       "       [1, 1, 1, 1, 1, 1, 0, 0, 0, 0, 0, 0, 0, 0, 0, 0, 0, 0, 0, 0, 0, 0,\n",
       "        0, 0, 0, 0, 0, 0, 0, 0, 0, 0, 0, 0, 0, 0, 0, 0, 0, 0, 0, 0, 0, 0,\n",
       "        0, 0, 0, 0, 0, 0, 0, 0, 0, 0, 0, 0, 0, 0, 0, 0, 0, 0, 0, 0, 0, 0,\n",
       "        0, 0, 0, 0, 0, 0, 0, 0, 0, 0, 0, 0, 0, 0, 0, 0, 0, 0, 0, 0, 0, 0,\n",
       "        0, 0, 0, 0, 0, 0, 0, 0, 0, 0, 0, 0, 0, 0, 0, 0, 0, 0, 0, 0, 0, 0,\n",
       "        0, 0, 0, 0, 0, 0, 0, 0, 0, 0, 0, 0, 0, 0, 0, 0, 0, 0]])>"
      ]
     },
     "execution_count": 8,
     "metadata": {},
     "output_type": "execute_result"
    }
   ],
   "source": [
    "text_preprocessed['input_mask']"
   ]
  },
  {
   "cell_type": "code",
   "execution_count": 9,
   "id": "4de0fef4",
   "metadata": {},
   "outputs": [
    {
     "data": {
      "text/plain": [
       "<tf.Tensor: shape=(2, 128), dtype=int32, numpy=\n",
       "array([[  101,  3835,  3185,  5262,   102,     0,     0,     0,     0,\n",
       "            0,     0,     0,     0,     0,     0,     0,     0,     0,\n",
       "            0,     0,     0,     0,     0,     0,     0,     0,     0,\n",
       "            0,     0,     0,     0,     0,     0,     0,     0,     0,\n",
       "            0,     0,     0,     0,     0,     0,     0,     0,     0,\n",
       "            0,     0,     0,     0,     0,     0,     0,     0,     0,\n",
       "            0,     0,     0,     0,     0,     0,     0,     0,     0,\n",
       "            0,     0,     0,     0,     0,     0,     0,     0,     0,\n",
       "            0,     0,     0,     0,     0,     0,     0,     0,     0,\n",
       "            0,     0,     0,     0,     0,     0,     0,     0,     0,\n",
       "            0,     0,     0,     0,     0,     0,     0,     0,     0,\n",
       "            0,     0,     0,     0,     0,     0,     0,     0,     0,\n",
       "            0,     0,     0,     0,     0,     0,     0,     0,     0,\n",
       "            0,     0,     0,     0,     0,     0,     0,     0,     0,\n",
       "            0,     0],\n",
       "       [  101,  1045,  2293, 18750,  4730,   102,     0,     0,     0,\n",
       "            0,     0,     0,     0,     0,     0,     0,     0,     0,\n",
       "            0,     0,     0,     0,     0,     0,     0,     0,     0,\n",
       "            0,     0,     0,     0,     0,     0,     0,     0,     0,\n",
       "            0,     0,     0,     0,     0,     0,     0,     0,     0,\n",
       "            0,     0,     0,     0,     0,     0,     0,     0,     0,\n",
       "            0,     0,     0,     0,     0,     0,     0,     0,     0,\n",
       "            0,     0,     0,     0,     0,     0,     0,     0,     0,\n",
       "            0,     0,     0,     0,     0,     0,     0,     0,     0,\n",
       "            0,     0,     0,     0,     0,     0,     0,     0,     0,\n",
       "            0,     0,     0,     0,     0,     0,     0,     0,     0,\n",
       "            0,     0,     0,     0,     0,     0,     0,     0,     0,\n",
       "            0,     0,     0,     0,     0,     0,     0,     0,     0,\n",
       "            0,     0,     0,     0,     0,     0,     0,     0,     0,\n",
       "            0,     0]])>"
      ]
     },
     "execution_count": 9,
     "metadata": {},
     "output_type": "execute_result"
    }
   ],
   "source": [
    "text_preprocessed['input_word_ids']"
   ]
  },
  {
   "cell_type": "code",
   "execution_count": 11,
   "id": "a358bea0",
   "metadata": {},
   "outputs": [
    {
     "data": {
      "text/plain": [
       "<tf.Tensor: shape=(2, 128), dtype=int32, numpy=\n",
       "array([[0, 0, 0, 0, 0, 0, 0, 0, 0, 0, 0, 0, 0, 0, 0, 0, 0, 0, 0, 0, 0, 0,\n",
       "        0, 0, 0, 0, 0, 0, 0, 0, 0, 0, 0, 0, 0, 0, 0, 0, 0, 0, 0, 0, 0, 0,\n",
       "        0, 0, 0, 0, 0, 0, 0, 0, 0, 0, 0, 0, 0, 0, 0, 0, 0, 0, 0, 0, 0, 0,\n",
       "        0, 0, 0, 0, 0, 0, 0, 0, 0, 0, 0, 0, 0, 0, 0, 0, 0, 0, 0, 0, 0, 0,\n",
       "        0, 0, 0, 0, 0, 0, 0, 0, 0, 0, 0, 0, 0, 0, 0, 0, 0, 0, 0, 0, 0, 0,\n",
       "        0, 0, 0, 0, 0, 0, 0, 0, 0, 0, 0, 0, 0, 0, 0, 0, 0, 0],\n",
       "       [0, 0, 0, 0, 0, 0, 0, 0, 0, 0, 0, 0, 0, 0, 0, 0, 0, 0, 0, 0, 0, 0,\n",
       "        0, 0, 0, 0, 0, 0, 0, 0, 0, 0, 0, 0, 0, 0, 0, 0, 0, 0, 0, 0, 0, 0,\n",
       "        0, 0, 0, 0, 0, 0, 0, 0, 0, 0, 0, 0, 0, 0, 0, 0, 0, 0, 0, 0, 0, 0,\n",
       "        0, 0, 0, 0, 0, 0, 0, 0, 0, 0, 0, 0, 0, 0, 0, 0, 0, 0, 0, 0, 0, 0,\n",
       "        0, 0, 0, 0, 0, 0, 0, 0, 0, 0, 0, 0, 0, 0, 0, 0, 0, 0, 0, 0, 0, 0,\n",
       "        0, 0, 0, 0, 0, 0, 0, 0, 0, 0, 0, 0, 0, 0, 0, 0, 0, 0]])>"
      ]
     },
     "execution_count": 11,
     "metadata": {},
     "output_type": "execute_result"
    }
   ],
   "source": [
    "text_preprocessed['input_type_ids']"
   ]
  },
  {
   "cell_type": "markdown",
   "id": "df16cb76",
   "metadata": {},
   "source": [
    "### Using CLS & SEP\n",
    "\n",
    "BERT uses CLS as a special token at the begining of each sentence whereas SEP as a special token to seperate two sentences or end single sentence."
   ]
  },
  {
   "cell_type": "code",
   "execution_count": 12,
   "id": "37dff6c5",
   "metadata": {},
   "outputs": [
    {
     "data": {
      "text/plain": [
       "dict_keys(['sequence_output', 'encoder_outputs', 'pooled_output', 'default'])"
      ]
     },
     "execution_count": 12,
     "metadata": {},
     "output_type": "execute_result"
    }
   ],
   "source": [
    "bert_model = hub.KerasLayer(encoder_url)\n",
    "\n",
    "bert_results = bert_model(text_preprocessed)\n",
    "bert_results.keys()"
   ]
  },
  {
   "cell_type": "code",
   "execution_count": 13,
   "id": "61fae6f9",
   "metadata": {},
   "outputs": [
    {
     "data": {
      "text/plain": [
       "<tf.Tensor: shape=(2, 768), dtype=float32, numpy=\n",
       "array([[-0.79177415, -0.2141193 ,  0.49769458, ...,  0.24465156,\n",
       "        -0.47334483,  0.81758714],\n",
       "       [-0.9171231 , -0.4793517 , -0.78656995, ..., -0.61751777,\n",
       "        -0.7102687 ,  0.92184305]], dtype=float32)>"
      ]
     },
     "execution_count": 13,
     "metadata": {},
     "output_type": "execute_result"
    }
   ],
   "source": [
    "bert_results['pooled_output']"
   ]
  },
  {
   "cell_type": "code",
   "execution_count": 14,
   "id": "2dfae19e",
   "metadata": {},
   "outputs": [
    {
     "data": {
      "text/plain": [
       "<tf.Tensor: shape=(2, 128, 768), dtype=float32, numpy=\n",
       "array([[[ 0.07292046,  0.08567803,  0.14476834, ..., -0.09677116,\n",
       "          0.08722133,  0.07711101],\n",
       "        [ 0.17839415, -0.1900607 ,  0.50349444, ..., -0.05869861,\n",
       "          0.327171  , -0.1557856 ],\n",
       "        [ 0.18701461, -0.4338877 , -0.48875138, ..., -0.15502766,\n",
       "          0.00145099, -0.24470963],\n",
       "        ...,\n",
       "        [ 0.12083066,  0.12884238,  0.46453527, ...,  0.07375523,\n",
       "          0.17441952,  0.16522099],\n",
       "        [ 0.07967862, -0.01190662,  0.502254  , ...,  0.13777755,\n",
       "          0.210022  ,  0.00624555],\n",
       "        [-0.07212693, -0.28303438,  0.59033406, ...,  0.47551903,\n",
       "          0.16668476, -0.08920355]],\n",
       "\n",
       "       [[-0.07900587,  0.36335117, -0.21101575, ..., -0.17183766,\n",
       "          0.16299757,  0.6724269 ],\n",
       "        [ 0.27883485,  0.4371631 , -0.3576474 , ..., -0.04463645,\n",
       "          0.38315225,  0.58879864],\n",
       "        [ 1.2037672 ,  1.0727019 ,  0.48408756, ...,  0.24921048,\n",
       "          0.40730965,  0.40481815],\n",
       "        ...,\n",
       "        [ 0.08630029,  0.1935385 ,  0.47540066, ...,  0.18880157,\n",
       "         -0.06474128,  0.313186  ],\n",
       "        [ 0.1588706 ,  0.28572664,  0.37340808, ...,  0.09309104,\n",
       "         -0.04969546,  0.3876114 ],\n",
       "        [-0.08079869, -0.09572834,  0.26809812, ...,  0.13979629,\n",
       "         -0.06315824,  0.27288347]]], dtype=float32)>"
      ]
     },
     "execution_count": 14,
     "metadata": {},
     "output_type": "execute_result"
    }
   ],
   "source": [
    "bert_results['sequence_output']"
   ]
  },
  {
   "cell_type": "code",
   "execution_count": 15,
   "id": "0dd5a1cc",
   "metadata": {},
   "outputs": [
    {
     "data": {
      "text/plain": [
       "<tf.Tensor: shape=(2, 768), dtype=float32, numpy=\n",
       "array([[-0.79177415, -0.2141193 ,  0.49769458, ...,  0.24465156,\n",
       "        -0.47334483,  0.81758714],\n",
       "       [-0.9171231 , -0.4793517 , -0.78656995, ..., -0.61751777,\n",
       "        -0.7102687 ,  0.92184305]], dtype=float32)>"
      ]
     },
     "execution_count": 15,
     "metadata": {},
     "output_type": "execute_result"
    }
   ],
   "source": [
    "bert_results['default']"
   ]
  },
  {
   "cell_type": "code",
   "execution_count": 16,
   "id": "ab9e6657",
   "metadata": {},
   "outputs": [
    {
     "data": {
      "text/plain": [
       "[<tf.Tensor: shape=(2, 128, 768), dtype=float32, numpy=\n",
       " array([[[ 0.12901424,  0.00644747, -0.03614966, ...,  0.04999633,\n",
       "           0.06149189, -0.02657543],\n",
       "         [ 1.1753384 ,  1.2140785 ,  1.1569982 , ...,  0.11634388,\n",
       "          -0.3585534 , -0.4049018 ],\n",
       "         [ 0.03859033,  0.53869975, -0.21089774, ...,  0.21858197,\n",
       "           0.7260166 , -1.1158603 ],\n",
       "         ...,\n",
       "         [-0.07587022, -0.25421908,  0.7075512 , ...,  0.50541985,\n",
       "          -0.18878683,  0.1502833 ],\n",
       "         [-0.16066611, -0.28089672,  0.57597065, ...,  0.5275855 ,\n",
       "          -0.11141385,  0.02887556],\n",
       "         [-0.04428175, -0.2027959 ,  0.5909356 , ...,  0.8133835 ,\n",
       "          -0.39075807, -0.02601743]],\n",
       " \n",
       "        [[ 0.1890359 ,  0.02752551, -0.0651374 , ..., -0.00620212,\n",
       "           0.15053892,  0.03165445],\n",
       "         [ 0.5916147 ,  0.7589138 , -0.07240652, ...,  0.6190394 ,\n",
       "           0.8292891 ,  0.16161953],\n",
       "         [ 1.4460827 ,  0.4460265 ,  0.4099025 , ...,  0.4825592 ,\n",
       "           0.62691146,  0.13463417],\n",
       "         ...,\n",
       "         [ 0.15147896, -0.2157385 ,  0.703291  , ..., -0.12537207,\n",
       "          -0.13787265,  0.2772204 ],\n",
       "         [ 0.051438  , -0.24052688,  0.53569144, ..., -0.07915039,\n",
       "          -0.03307923,  0.17380928],\n",
       "         [ 0.20934702, -0.1564525 ,  0.6039545 , ...,  0.32903552,\n",
       "          -0.3582721 ,  0.08100395]]], dtype=float32)>,\n",
       " <tf.Tensor: shape=(2, 128, 768), dtype=float32, numpy=\n",
       " array([[[ 0.01418142, -0.22088249, -0.15028174, ...,  0.11415622,\n",
       "           0.12618099,  0.04843397],\n",
       "         [ 1.2033905 ,  1.3469858 ,  1.7064527 , ...,  0.30610555,\n",
       "          -0.507425  , -0.55147487],\n",
       "         [ 0.42169076,  0.8110244 , -0.25631577, ..., -0.07722506,\n",
       "           0.8937235 , -1.4472055 ],\n",
       "         ...,\n",
       "         [-0.19047475, -0.23860872,  0.8141204 , ...,  0.9749359 ,\n",
       "          -0.3477423 , -0.08733571],\n",
       "         [-0.27151   , -0.3198496 ,  0.7659386 , ...,  0.96761674,\n",
       "          -0.29511926, -0.15731776],\n",
       "         [-0.21302746, -0.19229701,  0.7338776 , ...,  1.1040438 ,\n",
       "          -0.45102888, -0.20683086]],\n",
       " \n",
       "        [[ 0.08973341, -0.18419707, -0.16645084, ...,  0.02761321,\n",
       "           0.11187722,  0.08041725],\n",
       "         [ 0.5831134 ,  0.59570265,  0.36019564, ...,  0.41270074,\n",
       "           0.26809192,  0.2840054 ],\n",
       "         [ 2.1166673 ,  0.51769376,  0.86377454, ...,  0.7178736 ,\n",
       "           0.32405084,  0.09739979],\n",
       "         ...,\n",
       "         [ 0.2437289 , -0.0577554 ,  0.6842878 , ...,  0.43483597,\n",
       "          -0.5766095 , -0.11131071],\n",
       "         [ 0.16803887, -0.03091805,  0.5863845 , ...,  0.49625823,\n",
       "          -0.50567985, -0.20782167],\n",
       "         [ 0.24831755,  0.00315489,  0.51592535, ...,  0.8050241 ,\n",
       "          -0.69899654, -0.24186428]]], dtype=float32)>,\n",
       " <tf.Tensor: shape=(2, 128, 768), dtype=float32, numpy=\n",
       " array([[[ 0.02275402, -0.2798024 ,  0.0234573 , ...,  0.27867013,\n",
       "           0.11714806,  0.18175104],\n",
       "         [ 1.2574844 ,  0.87250787,  1.6266011 , ...,  0.4521094 ,\n",
       "          -0.8090255 , -0.54489833],\n",
       "         [ 0.7521985 ,  0.63573647, -0.20566137, ..., -0.3238182 ,\n",
       "           0.7574949 , -1.4587919 ],\n",
       "         ...,\n",
       "         [-0.15107432, -0.2112906 ,  0.96894634, ...,  1.1261963 ,\n",
       "          -0.03214077, -0.22340256],\n",
       "         [-0.28125626, -0.31140015,  0.8432894 , ...,  1.1342673 ,\n",
       "          -0.0833659 , -0.2516124 ],\n",
       "         [-0.2444905 , -0.21537866,  0.94809854, ...,  1.2419425 ,\n",
       "          -0.19873512, -0.3375258 ]],\n",
       " \n",
       "        [[ 0.10617068, -0.27990758, -0.01731797, ...,  0.20060436,\n",
       "           0.08148393,  0.2185908 ],\n",
       "         [ 0.68925875,  0.31591475,  0.5558665 , ...,  0.6903945 ,\n",
       "          -0.07141552,  0.414072  ],\n",
       "         [ 2.5758886 ,  0.6252092 ,  1.2503712 , ...,  0.43957776,\n",
       "          -0.18525575, -0.05004855],\n",
       "         ...,\n",
       "         [ 0.20464319, -0.01561959,  0.83431494, ...,  0.80149627,\n",
       "          -0.1285389 , -0.35842052],\n",
       "         [-0.02875638,  0.05097846,  0.6815928 , ...,  0.9003151 ,\n",
       "          -0.12434924, -0.42256343],\n",
       "         [ 0.1332771 ,  0.02257311,  0.7722172 , ...,  1.021119  ,\n",
       "          -0.30834708, -0.45623168]]], dtype=float32)>,\n",
       " <tf.Tensor: shape=(2, 128, 768), dtype=float32, numpy=\n",
       " array([[[ 0.11484891, -0.64441067, -0.14245127, ...,  0.2547418 ,\n",
       "           0.00378432,  0.61105114],\n",
       "         [ 1.3035432 ,  0.7706052 ,  1.3184993 , ...,  0.3582251 ,\n",
       "          -0.6412162 , -0.3279541 ],\n",
       "         [ 1.1896741 ,  0.6279444 , -0.6750162 , ..., -0.28870645,\n",
       "           0.47791892, -1.2805996 ],\n",
       "         ...,\n",
       "         [-0.22614777, -0.6276293 ,  1.0227482 , ...,  0.82923156,\n",
       "          -0.4031472 ,  0.04389252],\n",
       "         [-0.39901492, -0.7561902 ,  0.7489381 , ...,  0.7492261 ,\n",
       "          -0.4507771 , -0.00367965],\n",
       "         [-0.3772876 , -0.78310376,  0.90572464, ...,  0.97362304,\n",
       "          -0.48285764, -0.07389851]],\n",
       " \n",
       "        [[ 0.15151376, -0.7075227 , -0.27520415, ...,  0.4434592 ,\n",
       "          -0.2092038 ,  0.49860182],\n",
       "         [ 0.8864791 , -0.24838197,  0.73537517, ...,  0.74179363,\n",
       "          -0.13177247,  0.10158489],\n",
       "         [ 2.5865815 ,  0.6188286 ,  0.52798796, ...,  0.8487316 ,\n",
       "          -0.5915018 ,  0.0234987 ],\n",
       "         ...,\n",
       "         [-0.05526885, -0.43394637,  1.178334  , ...,  0.9179169 ,\n",
       "          -0.45718172, -0.2501463 ],\n",
       "         [-0.29328647, -0.23091203,  0.9938013 , ...,  1.035379  ,\n",
       "          -0.42435765, -0.3494761 ],\n",
       "         [-0.15899077, -0.5009812 ,  0.9814214 , ...,  1.137308  ,\n",
       "          -0.61888355, -0.44457775]]], dtype=float32)>,\n",
       " <tf.Tensor: shape=(2, 128, 768), dtype=float32, numpy=\n",
       " array([[[-0.2217482 , -0.42225298, -0.04924015, ..., -0.26284248,\n",
       "           0.0609996 ,  0.6379489 ],\n",
       "         [ 1.1627903 ,  0.677054  ,  1.3072386 , ...,  0.22794662,\n",
       "          -0.5432956 , -0.27383316],\n",
       "         [ 1.5308242 ,  0.72225523, -0.4360868 , ...,  0.27435803,\n",
       "           0.24980222, -0.9875372 ],\n",
       "         ...,\n",
       "         [-0.17669718, -0.31260547,  1.0875318 , ...,  0.5924216 ,\n",
       "           0.01275292, -0.2817193 ],\n",
       "         [-0.34473756, -0.4242996 ,  0.87980264, ...,  0.5482614 ,\n",
       "          -0.08151917, -0.34001428],\n",
       "         [-0.48139834, -0.3132426 ,  1.1702346 , ...,  0.8730988 ,\n",
       "          -0.07970201, -0.45325494]],\n",
       " \n",
       "        [[-0.21608137, -0.89864194, -0.44991514, ..., -0.08286206,\n",
       "          -0.17226855,  0.6619987 ],\n",
       "         [ 0.6661449 , -0.5491693 ,  0.4646061 , ...,  0.17649317,\n",
       "           0.2282255 ,  0.34962147],\n",
       "         [ 2.0629628 ,  0.6991985 ,  0.35604513, ...,  0.5295339 ,\n",
       "          -0.34809306,  0.008314  ],\n",
       "         ...,\n",
       "         [-0.11594038, -0.17149255,  0.8994402 , ...,  0.6299015 ,\n",
       "          -0.33990246, -0.20049213],\n",
       "         [-0.13007496, -0.0273909 ,  0.70799756, ...,  0.80594665,\n",
       "          -0.30724126, -0.1995632 ],\n",
       "         [-0.26314867, -0.26137045,  0.633857  , ...,  0.8150186 ,\n",
       "          -0.45400313, -0.35120654]]], dtype=float32)>,\n",
       " <tf.Tensor: shape=(2, 128, 768), dtype=float32, numpy=\n",
       " array([[[-0.03392701, -0.3943147 ,  0.04223727, ..., -0.07905608,\n",
       "           0.01993885,  0.76920676],\n",
       "         [ 1.4294367 , -0.08698981,  1.5299488 , ...,  0.22512108,\n",
       "          -1.006008  , -0.23702295],\n",
       "         [ 1.5031748 ,  0.6725799 , -0.525902  , ...,  0.10906926,\n",
       "           0.27042386, -1.2567499 ],\n",
       "         ...,\n",
       "         [-0.30033514, -0.02261882,  1.318741  , ...,  0.69288784,\n",
       "          -0.09798483, -0.17419715],\n",
       "         [-0.4375415 , -0.2114918 ,  1.1094577 , ...,  0.5006602 ,\n",
       "          -0.17692399, -0.18529129],\n",
       "         [-0.6592049 , -0.1960786 ,  1.3134071 , ...,  0.73200816,\n",
       "          -0.19967361, -0.32469168]],\n",
       " \n",
       "        [[-0.27334645, -0.95268446, -0.7869656 , ..., -0.12205289,\n",
       "          -0.08783809,  0.7581167 ],\n",
       "         [ 0.4675698 , -0.16237539, -0.01155873, ...,  0.18781224,\n",
       "           0.6216473 ,  0.03009892],\n",
       "         [ 1.7947402 ,  0.9051079 ,  0.08580932, ...,  0.7709361 ,\n",
       "          -0.6682787 , -0.06755468],\n",
       "         ...,\n",
       "         [-0.18337485, -0.15806568,  1.1826948 , ...,  0.83047503,\n",
       "          -0.3940646 , -0.23047721],\n",
       "         [-0.22270131,  0.00976006,  0.9340845 , ...,  1.1286681 ,\n",
       "          -0.3488435 , -0.1949143 ],\n",
       "         [-0.3038616 , -0.2968306 ,  0.82471704, ...,  1.0090812 ,\n",
       "          -0.46407643, -0.31465602]]], dtype=float32)>,\n",
       " <tf.Tensor: shape=(2, 128, 768), dtype=float32, numpy=\n",
       " array([[[-0.23803422, -0.6655407 ,  0.29917207, ...,  0.03415098,\n",
       "           0.2936279 ,  0.9653632 ],\n",
       "         [ 1.5040764 ,  0.00695158,  1.431414  , ...,  0.24628747,\n",
       "          -0.5521966 , -0.32215488],\n",
       "         [ 1.3629035 ,  0.47741777, -0.6152989 , ...,  0.08586961,\n",
       "           0.43922466, -1.5594149 ],\n",
       "         ...,\n",
       "         [-0.1686394 ,  0.00209753,  1.3201771 , ...,  0.9428037 ,\n",
       "          -0.04737357,  0.21490373],\n",
       "         [-0.26666394, -0.24881175,  1.2213267 , ...,  0.63527966,\n",
       "          -0.04442437,  0.04466202],\n",
       "         [-0.5336616 , -0.35795984,  1.3447876 , ...,  0.6038452 ,\n",
       "          -0.08427174, -0.15712087]],\n",
       " \n",
       "        [[-0.0596747 , -0.84482145, -0.89390147, ..., -0.10863882,\n",
       "           0.409324  ,  0.7940866 ],\n",
       "         [ 0.54405063, -0.31962925, -0.45491526, ...,  0.4806863 ,\n",
       "           0.7786255 ,  0.22774255],\n",
       "         [ 1.4479865 ,  1.1230612 ,  0.09567992, ...,  1.3554294 ,\n",
       "           0.06143525, -0.00836882],\n",
       "         ...,\n",
       "         [ 0.25652274, -0.14106542,  1.1854349 , ...,  0.95683676,\n",
       "          -0.21603934, -0.06946412],\n",
       "         [ 0.25819173,  0.0794922 ,  0.9851645 , ...,  1.0518225 ,\n",
       "          -0.07890899, -0.12841502],\n",
       "         [-0.05268886, -0.33431286,  0.9637349 , ...,  0.8960701 ,\n",
       "          -0.10082353, -0.28129628]]], dtype=float32)>,\n",
       " <tf.Tensor: shape=(2, 128, 768), dtype=float32, numpy=\n",
       " array([[[-7.0826620e-02, -2.5689909e-01, -3.5962634e-02, ...,\n",
       "          -3.5881320e-01,  1.3524744e-01,  1.0136112e+00],\n",
       "         [ 9.7471970e-01, -1.9712853e-01,  1.4318087e+00, ...,\n",
       "          -1.4052044e-01, -5.0432280e-02, -2.7141718e-02],\n",
       "         [ 1.1273402e+00,  2.7122784e-01, -2.8622943e-01, ...,\n",
       "           9.3385309e-02,  2.9908258e-01, -1.3764435e+00],\n",
       "         ...,\n",
       "         [-9.5786333e-02,  2.9180863e-01,  1.5879160e+00, ...,\n",
       "           8.5004216e-01, -5.1284783e-02,  2.0340084e-01],\n",
       "         [-2.2268832e-01, -8.3895802e-02,  1.7256018e+00, ...,\n",
       "           6.1222184e-01,  1.0976626e-01,  7.0046470e-02],\n",
       "         [-5.7830065e-01, -3.5915631e-01,  1.6035972e+00, ...,\n",
       "           3.4189951e-01,  5.2881293e-02, -1.5400967e-01]],\n",
       " \n",
       "        [[ 6.1017934e-02, -3.5161597e-01, -8.4891391e-01, ...,\n",
       "          -4.8554948e-01,  4.2703068e-01,  6.3829041e-01],\n",
       "         [ 6.6376507e-01,  1.8290803e-04, -7.9078829e-01, ...,\n",
       "           3.0686995e-01,  7.5843740e-01,  7.3240101e-01],\n",
       "         [ 1.4494696e+00,  1.1265041e+00,  1.7709270e-01, ...,\n",
       "           2.3471579e-01,  3.4929499e-01,  4.3709818e-01],\n",
       "         ...,\n",
       "         [ 3.2339561e-01,  1.7575847e-01,  8.7672448e-01, ...,\n",
       "           9.8904097e-01, -2.7050802e-01, -3.0809450e-01],\n",
       "         [ 4.0404332e-01,  5.1364994e-01,  7.2748131e-01, ...,\n",
       "           9.4942147e-01, -1.0215234e-02, -3.4644264e-01],\n",
       "         [-9.1300188e-03, -8.7015763e-02,  7.3031926e-01, ...,\n",
       "           8.5439742e-01, -1.3661227e-01, -4.7493523e-01]]], dtype=float32)>,\n",
       " <tf.Tensor: shape=(2, 128, 768), dtype=float32, numpy=\n",
       " array([[[-0.09403481, -0.05987585, -0.01171743, ..., -0.22167592,\n",
       "          -0.07650186,  0.5765808 ],\n",
       "         [ 0.77480704,  0.15188295,  1.092001  , ..., -0.19562426,\n",
       "           0.15173152, -0.01071392],\n",
       "         [ 0.85191345,  0.25842762, -0.77035576, ...,  0.03356647,\n",
       "           0.34010407, -1.3918678 ],\n",
       "         ...,\n",
       "         [-0.19780327,  0.528198  ,  0.902354  , ...,  0.2791971 ,\n",
       "          -0.28764033,  0.7510931 ],\n",
       "         [-0.35067436,  0.09291981,  1.3383354 , ...,  0.22619633,\n",
       "          -0.03588929,  0.2734385 ],\n",
       "         [-0.9044516 , -0.20991176,  1.1977357 , ...,  0.35118598,\n",
       "          -0.21743655,  0.01482294]],\n",
       " \n",
       "        [[-0.07011072, -0.02392479, -0.6192429 , ..., -0.14542036,\n",
       "           0.34049356,  0.41224775],\n",
       "         [ 0.592616  ,  0.19015938, -0.3739957 , ...,  0.3723959 ,\n",
       "           0.39152956,  0.42580423],\n",
       "         [ 1.1394768 ,  0.8439857 ,  0.38893995, ...,  0.2089835 ,\n",
       "           0.25176355,  0.26400045],\n",
       "         ...,\n",
       "         [ 0.43305966,  0.4201219 ,  1.096511  , ...,  1.1872362 ,\n",
       "          -0.16672103,  0.00856146],\n",
       "         [ 0.5754238 ,  0.8660948 ,  1.1184691 , ...,  1.0475057 ,\n",
       "           0.04264343, -0.01540322],\n",
       "         [-0.05487914, -0.07306831,  0.90122205, ...,  0.8004533 ,\n",
       "          -0.16820599, -0.3550736 ]]], dtype=float32)>,\n",
       " <tf.Tensor: shape=(2, 128, 768), dtype=float32, numpy=\n",
       " array([[[-0.22671361,  0.03110895,  0.32186067, ..., -0.28090292,\n",
       "          -0.7505085 ,  0.4455793 ],\n",
       "         [ 0.7712561 ,  0.11217979,  0.66033226, ..., -0.09223808,\n",
       "           0.34821114, -0.36905104],\n",
       "         [ 0.5122405 , -0.19928953, -0.8477506 , ..., -0.2881211 ,\n",
       "           0.2238367 , -1.2124597 ],\n",
       "         ...,\n",
       "         [ 0.12500714,  0.66634   ,  0.98522127, ..., -0.08709419,\n",
       "          -0.5805462 ,  0.61272335],\n",
       "         [ 0.01400278,  0.10471235,  1.2684822 , ..., -0.01833104,\n",
       "          -0.3593312 ,  0.15463123],\n",
       "         [-0.8093843 , -0.36068025,  1.3501278 , ...,  0.58936024,\n",
       "          -0.509324  , -0.09766937]],\n",
       " \n",
       "        [[-0.21534964, -0.2396222 , -0.3093237 , ..., -0.25964996,\n",
       "           0.0969523 ,  0.4182675 ],\n",
       "         [ 0.5070064 , -0.01544814, -0.10519707, ...,  0.38675362,\n",
       "           0.22041257, -0.10293232],\n",
       "         [ 1.0366052 ,  0.9171313 ,  0.26164195, ...,  0.33182153,\n",
       "           0.4559707 ,  0.12697926],\n",
       "         ...,\n",
       "         [ 0.16190577,  0.7627016 ,  1.2737681 , ...,  0.57259953,\n",
       "          -0.05929547,  0.26224074],\n",
       "         [ 0.46124622,  1.1673874 ,  0.9594771 , ...,  0.46033004,\n",
       "           0.13521375,  0.4513612 ],\n",
       "         [-0.2418398 ,  0.17352855,  0.8415647 , ...,  0.24766839,\n",
       "          -0.14810227,  0.06557409]]], dtype=float32)>,\n",
       " <tf.Tensor: shape=(2, 128, 768), dtype=float32, numpy=\n",
       " array([[[-2.1951720e-02,  2.1303590e-01,  3.1135899e-01, ...,\n",
       "          -2.3918018e-01, -2.7870914e-01,  2.0408425e-01],\n",
       "         [ 8.3098477e-01,  1.9078146e-01,  7.1134579e-01, ...,\n",
       "          -3.0024493e-01,  3.1152380e-01, -2.5934064e-01],\n",
       "         [ 3.7308913e-01, -4.2212579e-01, -6.6690904e-01, ...,\n",
       "          -4.5297638e-01,  3.2045129e-01, -2.9988560e-01],\n",
       "         ...,\n",
       "         [ 3.3166552e-01,  7.1835828e-01,  8.9961070e-01, ...,\n",
       "          -3.4914526e-01, -2.9987001e-01,  5.2388805e-01],\n",
       "         [ 2.3853202e-01,  2.0484410e-01,  1.1306429e+00, ...,\n",
       "          -1.5113021e-01, -1.3781129e-01,  7.6998971e-02],\n",
       "         [-3.8412085e-01, -3.8158682e-01,  1.3397293e+00, ...,\n",
       "           5.7755512e-01, -1.5540031e-01, -2.9294544e-01]],\n",
       " \n",
       "        [[ 1.4363043e-01,  1.6980176e-01,  4.5120098e-02, ...,\n",
       "          -6.2168118e-02, -1.5753513e-02,  2.8787056e-01],\n",
       "         [ 5.8476025e-01,  2.6993302e-01, -2.8520730e-01, ...,\n",
       "           3.3893102e-01,  1.1777362e-01,  3.6986865e-02],\n",
       "         [ 1.2525790e+00,  1.2556444e+00,  3.8754416e-01, ...,\n",
       "           1.7275760e-01,  4.9666250e-01,  6.1378145e-01],\n",
       "         ...,\n",
       "         [ 1.9548634e-01,  4.4081941e-01,  1.0389377e+00, ...,\n",
       "           1.4527023e-01, -2.7743930e-01,  1.9032148e-01],\n",
       "         [ 4.4816583e-01,  7.6447713e-01,  6.9800532e-01, ...,\n",
       "          -8.3585456e-04, -7.9643980e-02,  4.9335963e-01],\n",
       "         [-2.3398030e-01, -2.0333578e-01,  3.4824812e-01, ...,\n",
       "          -6.4341903e-02, -3.2087570e-01,  2.2334579e-02]]], dtype=float32)>,\n",
       " <tf.Tensor: shape=(2, 128, 768), dtype=float32, numpy=\n",
       " array([[[ 0.07292046,  0.08567803,  0.14476834, ..., -0.09677116,\n",
       "           0.08722133,  0.07711101],\n",
       "         [ 0.17839415, -0.1900607 ,  0.50349444, ..., -0.05869861,\n",
       "           0.327171  , -0.1557856 ],\n",
       "         [ 0.18701461, -0.4338877 , -0.48875138, ..., -0.15502766,\n",
       "           0.00145099, -0.24470963],\n",
       "         ...,\n",
       "         [ 0.12083066,  0.12884238,  0.46453527, ...,  0.07375523,\n",
       "           0.17441952,  0.16522099],\n",
       "         [ 0.07967862, -0.01190662,  0.502254  , ...,  0.13777755,\n",
       "           0.210022  ,  0.00624555],\n",
       "         [-0.07212693, -0.28303438,  0.59033406, ...,  0.47551903,\n",
       "           0.16668476, -0.08920355]],\n",
       " \n",
       "        [[-0.07900587,  0.36335117, -0.21101575, ..., -0.17183766,\n",
       "           0.16299757,  0.6724269 ],\n",
       "         [ 0.27883485,  0.4371631 , -0.3576474 , ..., -0.04463645,\n",
       "           0.38315225,  0.58879864],\n",
       "         [ 1.2037672 ,  1.0727019 ,  0.48408756, ...,  0.24921048,\n",
       "           0.40730965,  0.40481815],\n",
       "         ...,\n",
       "         [ 0.08630029,  0.1935385 ,  0.47540066, ...,  0.18880157,\n",
       "          -0.06474128,  0.313186  ],\n",
       "         [ 0.1588706 ,  0.28572664,  0.37340808, ...,  0.09309104,\n",
       "          -0.04969546,  0.3876114 ],\n",
       "         [-0.08079869, -0.09572834,  0.26809812, ...,  0.13979629,\n",
       "          -0.06315824,  0.27288347]]], dtype=float32)>]"
      ]
     },
     "execution_count": 16,
     "metadata": {},
     "output_type": "execute_result"
    }
   ],
   "source": [
    "bert_results['encoder_outputs']"
   ]
  },
  {
   "cell_type": "code",
   "execution_count": 17,
   "id": "b3646896",
   "metadata": {},
   "outputs": [
    {
     "data": {
      "text/plain": [
       "<tf.Tensor: shape=(2, 128, 768), dtype=float32, numpy=\n",
       "array([[[ 0.07292046,  0.08567803,  0.14476834, ..., -0.09677116,\n",
       "          0.08722133,  0.07711101],\n",
       "        [ 0.17839415, -0.1900607 ,  0.50349444, ..., -0.05869861,\n",
       "          0.327171  , -0.1557856 ],\n",
       "        [ 0.18701461, -0.4338877 , -0.48875138, ..., -0.15502766,\n",
       "          0.00145099, -0.24470963],\n",
       "        ...,\n",
       "        [ 0.12083066,  0.12884238,  0.46453527, ...,  0.07375523,\n",
       "          0.17441952,  0.16522099],\n",
       "        [ 0.07967862, -0.01190662,  0.502254  , ...,  0.13777755,\n",
       "          0.210022  ,  0.00624555],\n",
       "        [-0.07212693, -0.28303438,  0.59033406, ...,  0.47551903,\n",
       "          0.16668476, -0.08920355]],\n",
       "\n",
       "       [[-0.07900587,  0.36335117, -0.21101575, ..., -0.17183766,\n",
       "          0.16299757,  0.6724269 ],\n",
       "        [ 0.27883485,  0.4371631 , -0.3576474 , ..., -0.04463645,\n",
       "          0.38315225,  0.58879864],\n",
       "        [ 1.2037672 ,  1.0727019 ,  0.48408756, ...,  0.24921048,\n",
       "          0.40730965,  0.40481815],\n",
       "        ...,\n",
       "        [ 0.08630029,  0.1935385 ,  0.47540066, ...,  0.18880157,\n",
       "         -0.06474128,  0.313186  ],\n",
       "        [ 0.1588706 ,  0.28572664,  0.37340808, ...,  0.09309104,\n",
       "         -0.04969546,  0.3876114 ],\n",
       "        [-0.08079869, -0.09572834,  0.26809812, ...,  0.13979629,\n",
       "         -0.06315824,  0.27288347]]], dtype=float32)>"
      ]
     },
     "execution_count": 17,
     "metadata": {},
     "output_type": "execute_result"
    }
   ],
   "source": [
    "bert_results['encoder_outputs'][-1]"
   ]
  },
  {
   "cell_type": "code",
   "execution_count": 18,
   "id": "b63c3cb0",
   "metadata": {},
   "outputs": [
    {
     "data": {
      "text/plain": [
       "<tf.Tensor: shape=(2, 128, 768), dtype=bool, numpy=\n",
       "array([[[ True,  True,  True, ...,  True,  True,  True],\n",
       "        [ True,  True,  True, ...,  True,  True,  True],\n",
       "        [ True,  True,  True, ...,  True,  True,  True],\n",
       "        ...,\n",
       "        [ True,  True,  True, ...,  True,  True,  True],\n",
       "        [ True,  True,  True, ...,  True,  True,  True],\n",
       "        [ True,  True,  True, ...,  True,  True,  True]],\n",
       "\n",
       "       [[ True,  True,  True, ...,  True,  True,  True],\n",
       "        [ True,  True,  True, ...,  True,  True,  True],\n",
       "        [ True,  True,  True, ...,  True,  True,  True],\n",
       "        ...,\n",
       "        [ True,  True,  True, ...,  True,  True,  True],\n",
       "        [ True,  True,  True, ...,  True,  True,  True],\n",
       "        [ True,  True,  True, ...,  True,  True,  True]]])>"
      ]
     },
     "execution_count": 18,
     "metadata": {},
     "output_type": "execute_result"
    }
   ],
   "source": [
    "bert_results['encoder_outputs'][-1] == bert_results['sequence_output']"
   ]
  },
  {
   "cell_type": "code",
   "execution_count": null,
   "id": "d1a5876a",
   "metadata": {},
   "outputs": [],
   "source": []
  }
 ],
 "metadata": {
  "kernelspec": {
   "display_name": "Python 3 (ipykernel)",
   "language": "python",
   "name": "python3"
  },
  "language_info": {
   "codemirror_mode": {
    "name": "ipython",
    "version": 3
   },
   "file_extension": ".py",
   "mimetype": "text/x-python",
   "name": "python",
   "nbconvert_exporter": "python",
   "pygments_lexer": "ipython3",
   "version": "3.10.9"
  }
 },
 "nbformat": 4,
 "nbformat_minor": 5
}
