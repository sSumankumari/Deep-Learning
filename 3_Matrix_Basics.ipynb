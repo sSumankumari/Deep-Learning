{
 "cells": [
  {
   "cell_type": "markdown",
   "id": "e1eaa9d0",
   "metadata": {},
   "source": [
    "# Matrix Basics for Deep Learning"
   ]
  },
  {
   "cell_type": "code",
   "execution_count": 1,
   "id": "55e2e795",
   "metadata": {},
   "outputs": [],
   "source": [
    "import numpy as np"
   ]
  },
  {
   "cell_type": "code",
   "execution_count": 2,
   "id": "161a4a94",
   "metadata": {},
   "outputs": [],
   "source": [
    "revenue = np.array([[180, 200, 220], [24, 36, 40], [12, 18, 20]])\n",
    "expenses = np.array([[80, 90, 100], [10, 16, 20], [8, 10, 10]])"
   ]
  },
  {
   "cell_type": "code",
   "execution_count": 3,
   "id": "7a675ede",
   "metadata": {},
   "outputs": [
    {
     "data": {
      "text/plain": [
       "array([[100, 110, 120],\n",
       "       [ 14,  20,  20],\n",
       "       [  4,   8,  10]])"
      ]
     },
     "execution_count": 3,
     "metadata": {},
     "output_type": "execute_result"
    }
   ],
   "source": [
    "# Matrix Subtraction\n",
    "profit = revenue - expenses\n",
    "profit"
   ]
  },
  {
   "cell_type": "code",
   "execution_count": 4,
   "id": "4dbf5391",
   "metadata": {},
   "outputs": [
    {
     "data": {
      "text/plain": [
       "(3, 3)"
      ]
     },
     "execution_count": 4,
     "metadata": {},
     "output_type": "execute_result"
    }
   ],
   "source": [
    "profit.shape"
   ]
  },
  {
   "cell_type": "code",
   "execution_count": 5,
   "id": "124f8f0b",
   "metadata": {},
   "outputs": [],
   "source": [
    "price_per_unit = np.array([1000, 400, 1200])\n",
    "units = np.array([[30, 40, 50], [5, 10, 15], [2, 5, 7]])"
   ]
  },
  {
   "cell_type": "code",
   "execution_count": 7,
   "id": "b4f6d4db",
   "metadata": {},
   "outputs": [
    {
     "data": {
      "text/plain": [
       "array([[30000, 16000, 60000],\n",
       "       [ 5000,  4000, 18000],\n",
       "       [ 2000,  2000,  8400]])"
      ]
     },
     "execution_count": 7,
     "metadata": {},
     "output_type": "execute_result"
    }
   ],
   "source": [
    "# Matrix Multiplication\n",
    "price_per_unit*units"
   ]
  },
  {
   "cell_type": "code",
   "execution_count": 8,
   "id": "0f387f0f",
   "metadata": {},
   "outputs": [
    {
     "data": {
      "text/plain": [
       "array([34400, 50000, 64400])"
      ]
     },
     "execution_count": 8,
     "metadata": {},
     "output_type": "execute_result"
    }
   ],
   "source": [
    "# Matrix Dot Product\n",
    "np.dot(price_per_unit, units)"
   ]
  },
  {
   "cell_type": "code",
   "execution_count": null,
   "id": "e8fccabd",
   "metadata": {},
   "outputs": [],
   "source": []
  },
  {
   "cell_type": "markdown",
   "id": "b7e7e34d",
   "metadata": {},
   "source": [
    "## Exercise"
   ]
  },
  {
   "cell_type": "markdown",
   "id": "e9212eba",
   "metadata": {},
   "source": [
    "Q1. Convert USD revenues to INR"
   ]
  },
  {
   "cell_type": "code",
   "execution_count": 9,
   "id": "a5dc72e9",
   "metadata": {},
   "outputs": [
    {
     "data": {
      "text/plain": [
       "array([[15000, 16500, 18750],\n",
       "       [ 5100,  5925,  7875],\n",
       "       [ 8250, 10500, 13500],\n",
       "       [ 6000,  6375,  6750]])"
      ]
     },
     "execution_count": 9,
     "metadata": {},
     "output_type": "execute_result"
    }
   ],
   "source": [
    "revenue_usd = np.array([[200,220,250],[68,79,105],[110,140,180],[80,85,90]])\n",
    "revenue_inr = 75*revenue_usd\n",
    "revenue_inr"
   ]
  },
  {
   "cell_type": "markdown",
   "id": "93aa0b09",
   "metadata": {},
   "source": [
    "Q2. Calculate total flowers sale every month for divine flowers shop"
   ]
  },
  {
   "cell_type": "code",
   "execution_count": 11,
   "id": "1579ef2c",
   "metadata": {},
   "outputs": [],
   "source": [
    "units_sold = np.array([[50, 60, 25], [10, 13, 5], [40, 70, 52]])\n",
    "price_per_unit = np.array([20, 30, 15])"
   ]
  },
  {
   "cell_type": "code",
   "execution_count": 12,
   "id": "1e4816a9",
   "metadata": {},
   "outputs": [
    {
     "data": {
      "text/plain": [
       "array([1900, 2640, 1430])"
      ]
     },
     "execution_count": 12,
     "metadata": {},
     "output_type": "execute_result"
    }
   ],
   "source": [
    "total_sales_amt = np.dot(price_per_unit, units_sold)\n",
    "total_sales_amt"
   ]
  },
  {
   "cell_type": "code",
   "execution_count": null,
   "id": "6a159a7c",
   "metadata": {},
   "outputs": [],
   "source": []
  }
 ],
 "metadata": {
  "kernelspec": {
   "display_name": "Python 3 (ipykernel)",
   "language": "python",
   "name": "python3"
  },
  "language_info": {
   "codemirror_mode": {
    "name": "ipython",
    "version": 3
   },
   "file_extension": ".py",
   "mimetype": "text/x-python",
   "name": "python",
   "nbconvert_exporter": "python",
   "pygments_lexer": "ipython3",
   "version": "3.10.9"
  }
 },
 "nbformat": 4,
 "nbformat_minor": 5
}
